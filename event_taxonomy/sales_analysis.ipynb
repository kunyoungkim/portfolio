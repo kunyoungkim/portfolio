{
 "cells": [
  {
   "cell_type": "markdown",
   "metadata": {},
   "source": [
    "## 매출에 영향력 높은 후행 지표 찾기"
   ]
  },
  {
   "cell_type": "code",
   "execution_count": 294,
   "metadata": {},
   "outputs": [],
   "source": [
    "import pandas as pd\n",
    "import seaborn as sns\n",
    "import matplotlib.pyplot as plt\n",
    "import numpy as np"
   ]
  },
  {
   "cell_type": "code",
   "execution_count": null,
   "metadata": {},
   "outputs": [],
   "source": [
    "base_path = \"C:/Users/dukkubi\"\n",
    "df = pd.read_csv(base_path + \"영업팀 매출 데이터.csv\")\n",
    "form = pd.read_csv(base_path + \"피터팬의 좋은방구하기 입점문의 접수(응답).csv\")\n",
    "agent = pd.read_csv(base_path + \"중개사 데이터.csv\")\n",
    "first_party_db = pd.read_csv(base_path + \"first_party_db.csv\")"
   ]
  },
  {
   "cell_type": "markdown",
   "metadata": {},
   "source": [
    "##### 예시 데이터"
   ]
  },
  {
   "cell_type": "code",
   "execution_count": 296,
   "metadata": {},
   "outputs": [],
   "source": [
    "import pandas as pd\n",
    "import numpy as np\n",
    "import random\n",
    "from datetime import datetime, timedelta\n",
    "\n",
    "# 랜덤 데이터 생성을 위한 seed 설정\n",
    "random.seed(42)\n",
    "\n",
    "# 데이터 크기 설정\n",
    "num_rows = 1000\n",
    "\n",
    "# 데이터 생성\n",
    "regions = ['서울 중구', '서울특별시 강남구', '서울시 도봉구', '부산 서구', '부산광역시 동구', '대구 ', '광주 남구', '대전', '울산', '인천', '제주 서귀포시']\n",
    "companies = ['피터팬의좋은방구하기 공인중개사', '피터팬의 좋은방구하기 공인중개사', '피터팬의좋은방구하기', '피터팬의좋은방구하기 중개사', '피터팬의좋은방구하기 부동산', '피터팬의좋은방구하기 사무소',\n",
    "             '직방 공인중개사', '직방 공인중개사', '직방', '직방 중개사', '직방 부동산', '직방 사무소',\n",
    "             '다방 공인중개사', '다방 공인중개사', '다방', '다방 중개사', '다방 부동산', '다방사무소',\n",
    "             '한방 공인중개사', '한방 공인중개사', '한방', '한방 중개사', '한방 부동산', '한방 부동산사무소',\n",
    "             '부동산119 공인중개사', '부동산119 공인중개사', '부동산119', '부동산119 중개사', '부동산119 부동산',\n",
    "             '리치고 공인중개사', '리치고 공인중개사', '리치고', '리치고 중개사', '리치고 부동산',\n",
    "             ]\n",
    "persons = ['김건영', '김건영 ', '김건영(대표자)', ' 김건영', ' 김건영 ',\n",
    "           '중개사1', '중개사2', '중개사3', '중개사4', '중개사5', '중개사6', '중개사7', '중개사8'\n",
    "             ]\n",
    "\n",
    "# 열 데이터 생성\n",
    "지역 = np.random.choice(regions, num_rows)\n",
    "상호 = np.random.choice(companies, num_rows)\n",
    "대표자 = np.random.choice(persons, num_rows)\n",
    "\n",
    "# 다양한 형식의 매출액 데이터 생성\n",
    "매출액 = [\n",
    "    random.choice([\n",
    "        random.randint(10000, 1000000),  # 숫자\n",
    "        '',  # 빈 문자열\n",
    "        f\"{random.randint(1000, 1000000):,}\",  # 쉼표 포함 숫자\n",
    "        f\"-{random.randint(1000, 100000)}\"  # 음수\n",
    "    ]) for _ in range(num_rows)\n",
    "]\n",
    "\n",
    "# 음수 매출액의 경우 '환불'로 설정\n",
    "def generate_신규연장(value):\n",
    "    if isinstance(value, str) and value.startswith('-'):\n",
    "        return '환불'\n",
    "    return np.random.choice(['신규', '연장', None], p=[0.5, 0.4, 0.1])\n",
    "\n",
    "신규연장 = [generate_신규연장(value) for value in 매출액]\n",
    "\n",
    "날짜 = [(datetime.today() - timedelta(days=random.randint(0, 365 * 2))).strftime('%Y-%m-%d') for _ in range(num_rows)]\n",
    "register_numbers = [f\"RN{str(i).zfill(6)}\" for i in range(1, num_rows + 1)]\n",
    "\n",
    "# 데이터프레임 생성\n",
    "df = pd.DataFrame({\n",
    "    '지역': 지역,\n",
    "    '상호': 상호,\n",
    "    '대표자': 대표자,\n",
    "    '매출액': 매출액,\n",
    "    '날짜': 날짜,\n",
    "    '신규연장': 신규연장\n",
    "})\n",
    "\n",
    "# first_party_db 생성\n",
    "first_party_db = pd.DataFrame({\n",
    "    '지역': df['지역'],\n",
    "    '상호': df['상호'],\n",
    "    '대표자': df['대표자'],\n",
    "    'register_number': register_numbers\n",
    "}).drop_duplicates()"
   ]
  },
  {
   "cell_type": "markdown",
   "metadata": {},
   "source": [
    "### 1. 전처리"
   ]
  },
  {
   "cell_type": "markdown",
   "metadata": {},
   "source": [
    "#### 1-1. 중개사 식별 key 만들기\n",
    "영업팀 매출 데이터에 중개사를 식별하는 key가 존재하지 않는다.<br>\n",
    "따라서, 지역 + 상호 + 대표자 데이터를 공공 데이터의 지역 + 상호 + 대표자와 join 하여 등록번호를 부여했다.<br>\n",
    "공공 데이터의 경우, vworld 사이트에서 중개사 데이터를 크롤링 후, MySQL에 적재하였다.\n",
    "\n",
    "**정규식으로 전처리**<br>\n",
    "영업팀 매출 시트 데이터에서 아래에 해당하는 부분만 제거\n",
    "\n",
    "상호\n",
    "- 공인\n",
    "- 중개사\n",
    "- 중개\n",
    "- 사무소\n",
    "- 부동산\n",
    "- 법인\n",
    "- 법인분\n",
    "- 공백 앞,뒤,가운데\n",
    "- 주식회사\n",
    "- 분사무소\n",
    "- (주)\n",
    "- 괄호 + 괄호 안에 문자\n",
    "- .\n",
    "- 선발행요청\n",
    "- 소문자는 전부 대문자로 변경\n",
    "\n",
    "\n",
    "대표자 이름\n",
    "- 앞뒤공백\n",
    "- 대괄호 + 괄호 안에 문자\n",
    "- 소괄호() + 괄호 안에 문자\n",
    "- (뒤에 문자 제거\n",
    " [뒤에 문자 제거\n",
    "\n",
    "\n",
    "시도\n",
    "- 광역\n",
    "- 특별\n",
    "- 경기도"
   ]
  },
  {
   "cell_type": "code",
   "execution_count": 297,
   "metadata": {},
   "outputs": [],
   "source": [
    "import re\n",
    "\n",
    "def preprocess_sangho(text):\n",
    "    try:\n",
    "        if isinstance(text, str):\n",
    "            # 정규식 패턴들\n",
    "            patterns = [\n",
    "                r'(공인|중개사|중개|분사무소|사무소|부동산|법인분|법인|주식회사)',\n",
    "                r'\\([^()]*\\)',  # 괄호와 괄호 안의 문자 모두 삭제\n",
    "                r'\\s+',\n",
    "                r'\\.',          # 점 삭제\n",
    "                r'선발행요청'\n",
    "            ]\n",
    "\n",
    "            # 각 패턴을 제거하고 대문자로 변환\n",
    "            for pattern in patterns:\n",
    "                text = re.sub(pattern, '', text)\n",
    "\n",
    "            # 대문자로 변환\n",
    "            text = text.upper()\n",
    "    except Exception as e:\n",
    "        pass\n",
    "\n",
    "    return text\n",
    "\n",
    "\n",
    "def preprocess_name(text):\n",
    "    try:\n",
    "        if isinstance(text, str):\n",
    "            # 정규식 패턴들\n",
    "            patterns = [\n",
    "                r'\\s+',  # 공백 제거\n",
    "                r'\\[(.*?)\\]',  # 대괄호 안의 문자 제거\n",
    "                r'\\((.*?)\\)',  # 소괄호 안의 문자 제거\n",
    "                r'\\(([^()]*)$',  # 소괄호 뒤에 문자 제거\n",
    "                r'\\[([^[\\]]*)$'  # 대괄호 뒤에 문자 제거\n",
    "            ]\n",
    "\n",
    "            # 각 패턴을 제거하고 대문자로 변환\n",
    "            for pattern in patterns:\n",
    "                text = re.sub(pattern, '', text)\n",
    "\n",
    "    except Exception as e:\n",
    "        pass\n",
    "\n",
    "    return text\n",
    "\n",
    "\n",
    "def preprocess_sido(text):\n",
    "    try:\n",
    "        if isinstance(text, str):\n",
    "            # 정규식 패턴들\n",
    "            patterns = [\n",
    "                r'\\s+',  # 공백 제거,\n",
    "                r'광역|특별|경기도|시'\n",
    "            ]\n",
    "\n",
    "            # 각 패턴을 제거\n",
    "            for pattern in patterns:\n",
    "                text = re.sub(pattern, '', text)\n",
    "\n",
    "    except Exception as e:\n",
    "        pass\n",
    "\n",
    "    return text"
   ]
  },
  {
   "cell_type": "code",
   "execution_count": 298,
   "metadata": {},
   "outputs": [
    {
     "name": "stdout",
     "output_type": "stream",
     "text": [
      "AAG하남\n"
     ]
    }
   ],
   "source": [
    "# 테스트 문자열\n",
    "text = \"aAg 하남(주)중개사중개 (하남) 사무소 부동산 법인 법인분 주식회사 분사무소 . 선발행요청\"\n",
    "\n",
    "# 전처리된 문자열 출력\n",
    "print(preprocess_sangho(text))"
   ]
  },
  {
   "cell_type": "code",
   "execution_count": 299,
   "metadata": {},
   "outputs": [
    {
     "name": "stdout",
     "output_type": "stream",
     "text": [
      "김건영\n"
     ]
    }
   ],
   "source": [
    "# 테스트 문자열\n",
    "text = \"김건영[건영킴](건영킴) (11 [22 (33 )\"\n",
    "\n",
    "# 전처리된 문자열 출력\n",
    "print(preprocess_name(text))"
   ]
  },
  {
   "cell_type": "code",
   "execution_count": 300,
   "metadata": {},
   "outputs": [
    {
     "name": "stdout",
     "output_type": "stream",
     "text": [
      "서울강남구서울도봉구서울수원부산해운대구대구광주서울제주도서귀포\n"
     ]
    }
   ],
   "source": [
    "# 테스트 문자열\n",
    "text = \"서울특별시 강남구 특별시 서울 도봉구 서울시 경기도 수원시 광역시 부산광역시 해운대구 대구광역시 광주광역시 서울특별시 제주도 서귀포시\"\n",
    "\n",
    "# 전처리된 문자열 출력\n",
    "print(preprocess_sido(text))"
   ]
  },
  {
   "cell_type": "code",
   "execution_count": 301,
   "metadata": {},
   "outputs": [],
   "source": [
    "# 정규식 적용\n",
    "df['상호'] = df['상호'].apply(lambda x: preprocess_sangho(x))\n",
    "df['대표자'] = df['대표자'].apply(lambda x: preprocess_name(x))\n",
    "df['지역'] = df['지역'].apply(lambda x: preprocess_sido(x))\n",
    "\n",
    "first_party_db['상호'] = first_party_db['상호'].apply(lambda x: preprocess_sangho(x))\n",
    "first_party_db['대표자'] = first_party_db['대표자'].apply(lambda x: preprocess_name(x))\n",
    "first_party_db['지역'] = first_party_db['지역'].apply(lambda x: preprocess_sido(x))"
   ]
  },
  {
   "cell_type": "code",
   "execution_count": 302,
   "metadata": {},
   "outputs": [
    {
     "name": "stdout",
     "output_type": "stream",
     "text": [
      "427 427\n"
     ]
    }
   ],
   "source": [
    "# 지역 + 상호 + 대표자 합치기\n",
    "df['지역 상호 대표자'] = df['지역'] + ' ' + df['상호'] + ' ' + df['대표자']\n",
    "first_party_db['지역 상호 대표자'] = first_party_db['지역'] + ' ' + first_party_db['상호'] + ' ' + first_party_db['대표자']\n",
    "print(len(df['지역 상호 대표자'].unique()), len(first_party_db['지역 상호 대표자'].unique()))"
   ]
  },
  {
   "cell_type": "code",
   "execution_count": 303,
   "metadata": {},
   "outputs": [
    {
     "name": "stdout",
     "output_type": "stream",
     "text": [
      "['제주서귀포' '부산동구' '광주남구' '인천' '서울도봉구' '서울강남구' '대구' '부산서구' '대전' '서울중구' '울산'] \n",
      " ['119' '다방' '리치고' '직방' '한방' '피터팬의좋은방구하기'] \n",
      " ['중개사3' '김건영' '중개사2' '중개사7' '중개사4' '중개사6' '중개사5' '중개사8' '중개사1']\n"
     ]
    }
   ],
   "source": [
    "# 데이터 이상 없는지 학인\n",
    "print(df['지역'].unique(), \"\\n\", df['상호'].unique(), \"\\n\", df['대표자'].unique())"
   ]
  },
  {
   "cell_type": "code",
   "execution_count": 304,
   "metadata": {},
   "outputs": [
    {
     "data": {
      "text/html": [
       "<div>\n",
       "<style scoped>\n",
       "    .dataframe tbody tr th:only-of-type {\n",
       "        vertical-align: middle;\n",
       "    }\n",
       "\n",
       "    .dataframe tbody tr th {\n",
       "        vertical-align: top;\n",
       "    }\n",
       "\n",
       "    .dataframe thead th {\n",
       "        text-align: right;\n",
       "    }\n",
       "</style>\n",
       "<table border=\"1\" class=\"dataframe\">\n",
       "  <thead>\n",
       "    <tr style=\"text-align: right;\">\n",
       "      <th></th>\n",
       "      <th>지역</th>\n",
       "      <th>상호</th>\n",
       "      <th>대표자</th>\n",
       "      <th>매출액</th>\n",
       "      <th>날짜</th>\n",
       "      <th>신규연장</th>\n",
       "      <th>지역 상호 대표자</th>\n",
       "      <th>register_number</th>\n",
       "    </tr>\n",
       "  </thead>\n",
       "  <tbody>\n",
       "    <tr>\n",
       "      <th>0</th>\n",
       "      <td>제주서귀포</td>\n",
       "      <td>119</td>\n",
       "      <td>중개사3</td>\n",
       "      <td>117,739</td>\n",
       "      <td>2024-11-12</td>\n",
       "      <td>신규</td>\n",
       "      <td>제주서귀포 119 중개사3</td>\n",
       "      <td>RN000001</td>\n",
       "    </tr>\n",
       "    <tr>\n",
       "      <th>1</th>\n",
       "      <td>부산동구</td>\n",
       "      <td>다방</td>\n",
       "      <td>김건영</td>\n",
       "      <td>266787</td>\n",
       "      <td>2023-09-03</td>\n",
       "      <td>연장</td>\n",
       "      <td>부산동구 다방 김건영</td>\n",
       "      <td>RN000002</td>\n",
       "    </tr>\n",
       "    <tr>\n",
       "      <th>2</th>\n",
       "      <td>부산동구</td>\n",
       "      <td>다방</td>\n",
       "      <td>김건영</td>\n",
       "      <td>266787</td>\n",
       "      <td>2023-09-03</td>\n",
       "      <td>연장</td>\n",
       "      <td>부산동구 다방 김건영</td>\n",
       "      <td>RN000031</td>\n",
       "    </tr>\n",
       "    <tr>\n",
       "      <th>3</th>\n",
       "      <td>부산동구</td>\n",
       "      <td>다방</td>\n",
       "      <td>김건영</td>\n",
       "      <td>266787</td>\n",
       "      <td>2023-09-03</td>\n",
       "      <td>연장</td>\n",
       "      <td>부산동구 다방 김건영</td>\n",
       "      <td>RN000148</td>\n",
       "    </tr>\n",
       "    <tr>\n",
       "      <th>4</th>\n",
       "      <td>부산동구</td>\n",
       "      <td>다방</td>\n",
       "      <td>김건영</td>\n",
       "      <td>266787</td>\n",
       "      <td>2023-09-03</td>\n",
       "      <td>연장</td>\n",
       "      <td>부산동구 다방 김건영</td>\n",
       "      <td>RN000196</td>\n",
       "    </tr>\n",
       "    <tr>\n",
       "      <th>...</th>\n",
       "      <td>...</td>\n",
       "      <td>...</td>\n",
       "      <td>...</td>\n",
       "      <td>...</td>\n",
       "      <td>...</td>\n",
       "      <td>...</td>\n",
       "      <td>...</td>\n",
       "      <td>...</td>\n",
       "    </tr>\n",
       "    <tr>\n",
       "      <th>4171</th>\n",
       "      <td>대전</td>\n",
       "      <td>리치고</td>\n",
       "      <td>김건영</td>\n",
       "      <td></td>\n",
       "      <td>2023-08-12</td>\n",
       "      <td>신규</td>\n",
       "      <td>대전 리치고 김건영</td>\n",
       "      <td>RN000298</td>\n",
       "    </tr>\n",
       "    <tr>\n",
       "      <th>4172</th>\n",
       "      <td>대전</td>\n",
       "      <td>리치고</td>\n",
       "      <td>김건영</td>\n",
       "      <td></td>\n",
       "      <td>2023-08-12</td>\n",
       "      <td>신규</td>\n",
       "      <td>대전 리치고 김건영</td>\n",
       "      <td>RN000308</td>\n",
       "    </tr>\n",
       "    <tr>\n",
       "      <th>4173</th>\n",
       "      <td>대전</td>\n",
       "      <td>리치고</td>\n",
       "      <td>김건영</td>\n",
       "      <td></td>\n",
       "      <td>2023-08-12</td>\n",
       "      <td>신규</td>\n",
       "      <td>대전 리치고 김건영</td>\n",
       "      <td>RN000400</td>\n",
       "    </tr>\n",
       "    <tr>\n",
       "      <th>4174</th>\n",
       "      <td>대전</td>\n",
       "      <td>리치고</td>\n",
       "      <td>김건영</td>\n",
       "      <td></td>\n",
       "      <td>2023-08-12</td>\n",
       "      <td>신규</td>\n",
       "      <td>대전 리치고 김건영</td>\n",
       "      <td>RN000511</td>\n",
       "    </tr>\n",
       "    <tr>\n",
       "      <th>4175</th>\n",
       "      <td>대전</td>\n",
       "      <td>리치고</td>\n",
       "      <td>김건영</td>\n",
       "      <td></td>\n",
       "      <td>2023-08-12</td>\n",
       "      <td>신규</td>\n",
       "      <td>대전 리치고 김건영</td>\n",
       "      <td>RN001000</td>\n",
       "    </tr>\n",
       "  </tbody>\n",
       "</table>\n",
       "<p>4176 rows × 8 columns</p>\n",
       "</div>"
      ],
      "text/plain": [
       "         지역   상호   대표자      매출액          날짜 신규연장       지역 상호 대표자  \\\n",
       "0     제주서귀포  119  중개사3  117,739  2024-11-12   신규  제주서귀포 119 중개사3   \n",
       "1      부산동구   다방   김건영   266787  2023-09-03   연장     부산동구 다방 김건영   \n",
       "2      부산동구   다방   김건영   266787  2023-09-03   연장     부산동구 다방 김건영   \n",
       "3      부산동구   다방   김건영   266787  2023-09-03   연장     부산동구 다방 김건영   \n",
       "4      부산동구   다방   김건영   266787  2023-09-03   연장     부산동구 다방 김건영   \n",
       "...     ...  ...   ...      ...         ...  ...             ...   \n",
       "4171     대전  리치고   김건영           2023-08-12   신규      대전 리치고 김건영   \n",
       "4172     대전  리치고   김건영           2023-08-12   신규      대전 리치고 김건영   \n",
       "4173     대전  리치고   김건영           2023-08-12   신규      대전 리치고 김건영   \n",
       "4174     대전  리치고   김건영           2023-08-12   신규      대전 리치고 김건영   \n",
       "4175     대전  리치고   김건영           2023-08-12   신규      대전 리치고 김건영   \n",
       "\n",
       "     register_number  \n",
       "0           RN000001  \n",
       "1           RN000002  \n",
       "2           RN000031  \n",
       "3           RN000148  \n",
       "4           RN000196  \n",
       "...              ...  \n",
       "4171        RN000298  \n",
       "4172        RN000308  \n",
       "4173        RN000400  \n",
       "4174        RN000511  \n",
       "4175        RN001000  \n",
       "\n",
       "[4176 rows x 8 columns]"
      ]
     },
     "execution_count": 304,
     "metadata": {},
     "output_type": "execute_result"
    }
   ],
   "source": [
    "# 영업팀 매출 시트와 vworld 공공 데이터를 '지역 + 상호 + 대표자' 기준으로 left join\n",
    "df['지역 상호 대표자'] = df['지역']  + ' ' + df['상호'] + ' ' + df['대표자']\n",
    "\n",
    "first_party_db['지역 상호 대표자'] = df['지역']  + ' ' + df['상호'] + ' ' + df['대표자']\n",
    "first_party_db = first_party_db[['지역 상호 대표자', 'register_number']]\n",
    "\n",
    "df = df.merge(first_party_db, on='지역 상호 대표자', how='left')\n",
    "df"
   ]
  },
  {
   "cell_type": "code",
   "execution_count": 305,
   "metadata": {},
   "outputs": [
    {
     "name": "stdout",
     "output_type": "stream",
     "text": [
      "<class 'pandas.core.frame.DataFrame'>\n",
      "Int64Index: 4176 entries, 0 to 4175\n",
      "Data columns (total 8 columns):\n",
      " #   Column           Non-Null Count  Dtype \n",
      "---  ------           --------------  ----- \n",
      " 0   지역               4176 non-null   object\n",
      " 1   상호               4176 non-null   object\n",
      " 2   대표자              4176 non-null   object\n",
      " 3   매출액              4176 non-null   object\n",
      " 4   날짜               4176 non-null   object\n",
      " 5   신규연장             3864 non-null   object\n",
      " 6   지역 상호 대표자        4176 non-null   object\n",
      " 7   register_number  4176 non-null   object\n",
      "dtypes: object(8)\n",
      "memory usage: 293.6+ KB\n"
     ]
    }
   ],
   "source": [
    "df.info()"
   ]
  },
  {
   "cell_type": "markdown",
   "metadata": {},
   "source": [
    "#### 1-2. 매출액 전처리"
   ]
  },
  {
   "cell_type": "code",
   "execution_count": 306,
   "metadata": {},
   "outputs": [
    {
     "data": {
      "text/plain": [
       "0       117,739\n",
       "1        266787\n",
       "2        266787\n",
       "3        266787\n",
       "4        266787\n",
       "         ...   \n",
       "4171           \n",
       "4172           \n",
       "4173           \n",
       "4174           \n",
       "4175           \n",
       "Name: 매출액, Length: 4176, dtype: object"
      ]
     },
     "execution_count": 306,
     "metadata": {},
     "output_type": "execute_result"
    }
   ],
   "source": [
    "df['매출액']"
   ]
  },
  {
   "cell_type": "code",
   "execution_count": 307,
   "metadata": {},
   "outputs": [
    {
     "name": "stdout",
     "output_type": "stream",
     "text": [
      "0       117739\n",
      "1       266787\n",
      "2       266787\n",
      "3       266787\n",
      "4       266787\n",
      "         ...  \n",
      "4171         0\n",
      "4172         0\n",
      "4173         0\n",
      "4174         0\n",
      "4175         0\n",
      "Name: 매출액, Length: 4176, dtype: int64\n"
     ]
    }
   ],
   "source": [
    "# 매출액 전처리 함수\n",
    "def preprocess_sales(sales):\n",
    "    try:\n",
    "        # 빈 문자열은 0으로 처리\n",
    "        if sales == '':\n",
    "            return 0\n",
    "        # 문자열일 경우 쉼표 제거 후 숫자로 변환\n",
    "        if isinstance(sales, str):\n",
    "            return int(sales.replace(',', ''))\n",
    "        # 이미 숫자인 경우 그대로 반환\n",
    "        return int(sales)\n",
    "    except ValueError:\n",
    "        # 변환 실패 시 NaN 반환\n",
    "        return np.nan\n",
    "\n",
    "# 매출액 열 전처리\n",
    "df['매출액'] = df['매출액'].apply(preprocess_sales)\n",
    "\n",
    "# 결과 출력\n",
    "print(df['매출액'])"
   ]
  },
  {
   "cell_type": "markdown",
   "metadata": {},
   "source": [
    "#### 1-3. '신규연장' 열에 데이터가 없는 경우 '신규' 인지, '연장'인지 \n",
    "- '신규연장' 열은 최초구매 데이터인지, 재구매 데이터인지, 환불 데이터인지를 구분해주는 Columns이다."
   ]
  },
  {
   "cell_type": "code",
   "execution_count": 308,
   "metadata": {},
   "outputs": [
    {
     "data": {
      "text/plain": [
       "신규     1548\n",
       "연장     1206\n",
       "환불     1110\n",
       "NaN     312\n",
       "Name: 신규연장, dtype: int64"
      ]
     },
     "execution_count": 308,
     "metadata": {},
     "output_type": "execute_result"
    }
   ],
   "source": [
    "df['신규연장'].value_counts(dropna=False)"
   ]
  },
  {
   "cell_type": "code",
   "execution_count": 309,
   "metadata": {},
   "outputs": [
    {
     "data": {
      "text/html": [
       "<div>\n",
       "<style scoped>\n",
       "    .dataframe tbody tr th:only-of-type {\n",
       "        vertical-align: middle;\n",
       "    }\n",
       "\n",
       "    .dataframe tbody tr th {\n",
       "        vertical-align: top;\n",
       "    }\n",
       "\n",
       "    .dataframe thead th {\n",
       "        text-align: right;\n",
       "    }\n",
       "</style>\n",
       "<table border=\"1\" class=\"dataframe\">\n",
       "  <thead>\n",
       "    <tr style=\"text-align: right;\">\n",
       "      <th></th>\n",
       "      <th>지역 상호 대표자</th>\n",
       "      <th>최초구매날짜</th>\n",
       "    </tr>\n",
       "  </thead>\n",
       "  <tbody>\n",
       "    <tr>\n",
       "      <th>0</th>\n",
       "      <td>광주남구 119 중개사8</td>\n",
       "      <td>2024-11-05</td>\n",
       "    </tr>\n",
       "    <tr>\n",
       "      <th>1</th>\n",
       "      <td>광주남구 직방 김건영</td>\n",
       "      <td>2023-02-21</td>\n",
       "    </tr>\n",
       "    <tr>\n",
       "      <th>2</th>\n",
       "      <td>광주남구 직방 중개사3</td>\n",
       "      <td>2024-05-05</td>\n",
       "    </tr>\n",
       "    <tr>\n",
       "      <th>3</th>\n",
       "      <td>광주남구 피터팬의좋은방구하기 중개사6</td>\n",
       "      <td>2023-09-17</td>\n",
       "    </tr>\n",
       "    <tr>\n",
       "      <th>4</th>\n",
       "      <td>광주남구 한방 김건영</td>\n",
       "      <td>2023-02-05</td>\n",
       "    </tr>\n",
       "  </tbody>\n",
       "</table>\n",
       "</div>"
      ],
      "text/plain": [
       "              지역 상호 대표자      최초구매날짜\n",
       "0         광주남구 119 중개사8  2024-11-05\n",
       "1           광주남구 직방 김건영  2023-02-21\n",
       "2          광주남구 직방 중개사3  2024-05-05\n",
       "3  광주남구 피터팬의좋은방구하기 중개사6  2023-09-17\n",
       "4           광주남구 한방 김건영  2023-02-05"
      ]
     },
     "execution_count": 309,
     "metadata": {},
     "output_type": "execute_result"
    }
   ],
   "source": [
    "nan_agent_list = df.loc[df['신규연장'].isna(), '지역 상호 대표자'].unique().tolist()\n",
    "nan_agent_first_purchase_date = df.loc[df['지역 상호 대표자'].isin(nan_agent_list)].groupby(['지역 상호 대표자'])['날짜'].min().reset_index().rename(columns={'날짜':'최초구매날짜'})\n",
    "nan_agent_first_purchase_date.head()"
   ]
  },
  {
   "cell_type": "code",
   "execution_count": 310,
   "metadata": {},
   "outputs": [
    {
     "data": {
      "text/html": [
       "<div>\n",
       "<style scoped>\n",
       "    .dataframe tbody tr th:only-of-type {\n",
       "        vertical-align: middle;\n",
       "    }\n",
       "\n",
       "    .dataframe tbody tr th {\n",
       "        vertical-align: top;\n",
       "    }\n",
       "\n",
       "    .dataframe thead th {\n",
       "        text-align: right;\n",
       "    }\n",
       "</style>\n",
       "<table border=\"1\" class=\"dataframe\">\n",
       "  <thead>\n",
       "    <tr style=\"text-align: right;\">\n",
       "      <th></th>\n",
       "      <th>지역</th>\n",
       "      <th>상호</th>\n",
       "      <th>대표자</th>\n",
       "      <th>매출액</th>\n",
       "      <th>날짜</th>\n",
       "      <th>신규연장</th>\n",
       "      <th>지역 상호 대표자</th>\n",
       "      <th>register_number</th>\n",
       "      <th>최초구매날짜</th>\n",
       "    </tr>\n",
       "  </thead>\n",
       "  <tbody>\n",
       "    <tr>\n",
       "      <th>35</th>\n",
       "      <td>대구</td>\n",
       "      <td>한방</td>\n",
       "      <td>중개사6</td>\n",
       "      <td>361663</td>\n",
       "      <td>2024-02-04</td>\n",
       "      <td>None</td>\n",
       "      <td>대구 한방 중개사6</td>\n",
       "      <td>RN000012</td>\n",
       "      <td>2024-02-04</td>\n",
       "    </tr>\n",
       "    <tr>\n",
       "      <th>36</th>\n",
       "      <td>대구</td>\n",
       "      <td>한방</td>\n",
       "      <td>중개사6</td>\n",
       "      <td>361663</td>\n",
       "      <td>2024-02-04</td>\n",
       "      <td>None</td>\n",
       "      <td>대구 한방 중개사6</td>\n",
       "      <td>RN000386</td>\n",
       "      <td>2024-02-04</td>\n",
       "    </tr>\n",
       "    <tr>\n",
       "      <th>85</th>\n",
       "      <td>서울중구</td>\n",
       "      <td>직방</td>\n",
       "      <td>중개사3</td>\n",
       "      <td>712729</td>\n",
       "      <td>2023-08-03</td>\n",
       "      <td>None</td>\n",
       "      <td>서울중구 직방 중개사3</td>\n",
       "      <td>RN000021</td>\n",
       "      <td>2023-08-03</td>\n",
       "    </tr>\n",
       "    <tr>\n",
       "      <th>86</th>\n",
       "      <td>서울중구</td>\n",
       "      <td>직방</td>\n",
       "      <td>중개사3</td>\n",
       "      <td>712729</td>\n",
       "      <td>2023-08-03</td>\n",
       "      <td>None</td>\n",
       "      <td>서울중구 직방 중개사3</td>\n",
       "      <td>RN000261</td>\n",
       "      <td>2023-08-03</td>\n",
       "    </tr>\n",
       "    <tr>\n",
       "      <th>87</th>\n",
       "      <td>서울중구</td>\n",
       "      <td>직방</td>\n",
       "      <td>중개사3</td>\n",
       "      <td>712729</td>\n",
       "      <td>2023-08-03</td>\n",
       "      <td>None</td>\n",
       "      <td>서울중구 직방 중개사3</td>\n",
       "      <td>RN000393</td>\n",
       "      <td>2023-08-03</td>\n",
       "    </tr>\n",
       "    <tr>\n",
       "      <th>...</th>\n",
       "      <td>...</td>\n",
       "      <td>...</td>\n",
       "      <td>...</td>\n",
       "      <td>...</td>\n",
       "      <td>...</td>\n",
       "      <td>...</td>\n",
       "      <td>...</td>\n",
       "      <td>...</td>\n",
       "      <td>...</td>\n",
       "    </tr>\n",
       "    <tr>\n",
       "      <th>4159</th>\n",
       "      <td>광주남구</td>\n",
       "      <td>직방</td>\n",
       "      <td>김건영</td>\n",
       "      <td>395548</td>\n",
       "      <td>2024-09-07</td>\n",
       "      <td>None</td>\n",
       "      <td>광주남구 직방 김건영</td>\n",
       "      <td>RN000329</td>\n",
       "      <td>2023-02-21</td>\n",
       "    </tr>\n",
       "    <tr>\n",
       "      <th>4160</th>\n",
       "      <td>광주남구</td>\n",
       "      <td>직방</td>\n",
       "      <td>김건영</td>\n",
       "      <td>395548</td>\n",
       "      <td>2024-09-07</td>\n",
       "      <td>None</td>\n",
       "      <td>광주남구 직방 김건영</td>\n",
       "      <td>RN000382</td>\n",
       "      <td>2023-02-21</td>\n",
       "    </tr>\n",
       "    <tr>\n",
       "      <th>4161</th>\n",
       "      <td>광주남구</td>\n",
       "      <td>직방</td>\n",
       "      <td>김건영</td>\n",
       "      <td>395548</td>\n",
       "      <td>2024-09-07</td>\n",
       "      <td>None</td>\n",
       "      <td>광주남구 직방 김건영</td>\n",
       "      <td>RN000898</td>\n",
       "      <td>2023-02-21</td>\n",
       "    </tr>\n",
       "    <tr>\n",
       "      <th>4162</th>\n",
       "      <td>광주남구</td>\n",
       "      <td>직방</td>\n",
       "      <td>김건영</td>\n",
       "      <td>395548</td>\n",
       "      <td>2024-09-07</td>\n",
       "      <td>None</td>\n",
       "      <td>광주남구 직방 김건영</td>\n",
       "      <td>RN000933</td>\n",
       "      <td>2023-02-21</td>\n",
       "    </tr>\n",
       "    <tr>\n",
       "      <th>4163</th>\n",
       "      <td>광주남구</td>\n",
       "      <td>직방</td>\n",
       "      <td>김건영</td>\n",
       "      <td>395548</td>\n",
       "      <td>2024-09-07</td>\n",
       "      <td>None</td>\n",
       "      <td>광주남구 직방 김건영</td>\n",
       "      <td>RN000997</td>\n",
       "      <td>2023-02-21</td>\n",
       "    </tr>\n",
       "  </tbody>\n",
       "</table>\n",
       "<p>312 rows × 9 columns</p>\n",
       "</div>"
      ],
      "text/plain": [
       "        지역  상호   대표자     매출액          날짜  신규연장     지역 상호 대표자 register_number  \\\n",
       "35      대구  한방  중개사6  361663  2024-02-04  None    대구 한방 중개사6        RN000012   \n",
       "36      대구  한방  중개사6  361663  2024-02-04  None    대구 한방 중개사6        RN000386   \n",
       "85    서울중구  직방  중개사3  712729  2023-08-03  None  서울중구 직방 중개사3        RN000021   \n",
       "86    서울중구  직방  중개사3  712729  2023-08-03  None  서울중구 직방 중개사3        RN000261   \n",
       "87    서울중구  직방  중개사3  712729  2023-08-03  None  서울중구 직방 중개사3        RN000393   \n",
       "...    ...  ..   ...     ...         ...   ...           ...             ...   \n",
       "4159  광주남구  직방   김건영  395548  2024-09-07  None   광주남구 직방 김건영        RN000329   \n",
       "4160  광주남구  직방   김건영  395548  2024-09-07  None   광주남구 직방 김건영        RN000382   \n",
       "4161  광주남구  직방   김건영  395548  2024-09-07  None   광주남구 직방 김건영        RN000898   \n",
       "4162  광주남구  직방   김건영  395548  2024-09-07  None   광주남구 직방 김건영        RN000933   \n",
       "4163  광주남구  직방   김건영  395548  2024-09-07  None   광주남구 직방 김건영        RN000997   \n",
       "\n",
       "          최초구매날짜  \n",
       "35    2024-02-04  \n",
       "36    2024-02-04  \n",
       "85    2023-08-03  \n",
       "86    2023-08-03  \n",
       "87    2023-08-03  \n",
       "...          ...  \n",
       "4159  2023-02-21  \n",
       "4160  2023-02-21  \n",
       "4161  2023-02-21  \n",
       "4162  2023-02-21  \n",
       "4163  2023-02-21  \n",
       "\n",
       "[312 rows x 9 columns]"
      ]
     },
     "execution_count": 310,
     "metadata": {},
     "output_type": "execute_result"
    }
   ],
   "source": [
    "df_merge_first_purchase = df.merge(nan_agent_first_purchase_date, how='left', on='지역 상호 대표자')\n",
    "df_merge_first_purchase.loc[(~df_merge_first_purchase['최초구매날짜'].isna()) & df_merge_first_purchase['신규연장'].isna()]"
   ]
  },
  {
   "cell_type": "code",
   "execution_count": 311,
   "metadata": {},
   "outputs": [
    {
     "name": "stdout",
     "output_type": "stream",
     "text": [
      "<class 'pandas.core.frame.DataFrame'>\n",
      "Int64Index: 4176 entries, 0 to 4175\n",
      "Data columns (total 8 columns):\n",
      " #   Column           Non-Null Count  Dtype \n",
      "---  ------           --------------  ----- \n",
      " 0   지역               4176 non-null   object\n",
      " 1   상호               4176 non-null   object\n",
      " 2   대표자              4176 non-null   object\n",
      " 3   매출액              4176 non-null   int64 \n",
      " 4   날짜               4176 non-null   object\n",
      " 5   신규연장             3864 non-null   object\n",
      " 6   지역 상호 대표자        4176 non-null   object\n",
      " 7   register_number  4176 non-null   object\n",
      "dtypes: int64(1), object(7)\n",
      "memory usage: 293.6+ KB\n"
     ]
    }
   ],
   "source": [
    "df.info()"
   ]
  },
  {
   "cell_type": "code",
   "execution_count": 312,
   "metadata": {},
   "outputs": [],
   "source": [
    "# 조건에 맞게 '신규연장' 컬럼 생성\n",
    "df_merge_first_purchase['신규연장'] = df_merge_first_purchase.apply(\n",
    "    lambda row: '신규' if pd.to_datetime(row['날짜']) == pd.to_datetime(row['최초구매날짜']) \n",
    "    else ('연장' if pd.to_datetime(row['날짜']) > pd.to_datetime(row['최초구매날짜']) else row['신규연장']),\n",
    "    axis=1\n",
    ")"
   ]
  },
  {
   "cell_type": "code",
   "execution_count": 313,
   "metadata": {},
   "outputs": [
    {
     "name": "stdout",
     "output_type": "stream",
     "text": [
      "<class 'pandas.core.frame.DataFrame'>\n",
      "Int64Index: 4176 entries, 0 to 4175\n",
      "Data columns (total 9 columns):\n",
      " #   Column           Non-Null Count  Dtype \n",
      "---  ------           --------------  ----- \n",
      " 0   지역               4176 non-null   object\n",
      " 1   상호               4176 non-null   object\n",
      " 2   대표자              4176 non-null   object\n",
      " 3   매출액              4176 non-null   int64 \n",
      " 4   날짜               4176 non-null   object\n",
      " 5   신규연장             4176 non-null   object\n",
      " 6   지역 상호 대표자        4176 non-null   object\n",
      " 7   register_number  4176 non-null   object\n",
      " 8   최초구매날짜           1543 non-null   object\n",
      "dtypes: int64(1), object(8)\n",
      "memory usage: 326.2+ KB\n"
     ]
    }
   ],
   "source": [
    "df_merge_first_purchase.info()"
   ]
  },
  {
   "cell_type": "code",
   "execution_count": 314,
   "metadata": {},
   "outputs": [],
   "source": [
    "df = df_merge_first_purchase.drop('최초구매날짜', axis=1)"
   ]
  },
  {
   "cell_type": "markdown",
   "metadata": {},
   "source": [
    "### 2. 매출 분석"
   ]
  },
  {
   "cell_type": "markdown",
   "metadata": {},
   "source": [
    "#### 2-1. 신규가입 중개사 vs 재계약(연장) 중개사 비교"
   ]
  },
  {
   "cell_type": "code",
   "execution_count": 315,
   "metadata": {},
   "outputs": [
    {
     "name": "stdout",
     "output_type": "stream",
     "text": [
      "  신규연장  count\n",
      "0   신규   1359\n",
      "1   연장   2117\n",
      "2   환불    700\n",
      "  신규연장        매출액\n",
      "0   신규  434371052\n",
      "1   연장  573033026\n",
      "2   환불  -35336929\n"
     ]
    }
   ],
   "source": [
    "# 신규 가입 중개사 수와 재개약(연장) 중개사 수 비교 \n",
    "print(df.groupby('신규연장', dropna=False).size().reset_index(name='count'))\n",
    "\n",
    "# 신규 가입 중개사의 매출과 연장 중개사의 매출 비교\n",
    "print(df.groupby('신규연장', dropna=False)['매출액'].sum().reset_index())"
   ]
  },
  {
   "cell_type": "markdown",
   "metadata": {},
   "source": [
    "연장 중개사 수, 매출 비율이 더 높은 점을 확인했다.<br>\n",
    "평균적으로 중개사가 몇 개월 단위로, 몇 회 연장을 하는지도 확인을 해야한다.<br>\n",
    "<br>\n",
    "ex) 1개월 당 꾸준히 100명의 신규 중개사 유입\n",
    "- 평균 연장 횟수: 3회\n",
    "- 1회 연장 당 평균적으로 걸리는 기간: 3개월<br>\n",
    "\n",
    "위 조건에서 작년 이번 달 처음 100명의 신규 중개사가 유입되었다고 가정하면 다음과 같은 결과가 나온다.\n",
    "\n",
    "- 1개월 뒤 : 신규 중개사 100명, 연장 중개사 0명\n",
    "- 2개월 뒤 : 신규 중개사 100명, 연장 중개사 0명\n",
    "- 3개월 뒤 : 신규 중개사 100명, 연장 중개사 100명\n",
    "- 4개월 뒤 : 신규 중개사 100명, 연장 중개사 100명\n",
    "- 5개월 뒤 : 신규 중개사 100명, 연장 중개사 100명\n",
    "- 6개월 뒤 : 신규 중개사 100명, 연장 중개사 200명\n",
    "- 7개월 뒤 : 신규 중개사 100명, 연장 중개사 200명\n",
    "- 8개월 뒤 : 신규 중개사 100명, 연장 중개사 200명\n",
    "- 9개월 뒤 : 신규 중개사 100명, 연장 중개사 300명\n",
    "- 10개월 뒤 : 신규 중개사 100명, 연장 중개사 300명\n",
    "- 11개월 뒤 : 신규 중개사 100명, 연장 중개사 300명\n",
    "- 12개월 뒤 : 신규 중개사 100명, 연장 중개사 300명"
   ]
  },
  {
   "cell_type": "markdown",
   "metadata": {},
   "source": [
    "#### 2-2. 평균 연장 횟수 구하기\n",
    "**계산 조건**\n",
    "- 일반적으로 중개사는 3개월 단위로 연장을 하기 때문에 같은 달에 안에서는 여러번 연장을 했어도 1회로 간주(이 경우 재구매(연장)가 아니라 여러번 끊어서 구매했을 확률이 높음)\n",
    "- 최초구매일 기준으로 12개월치 데이터만 가지고 계산<br>\n",
    "-> 단순히 최근 2년치 데이터를 전부 가지고 평균을 계산하면, 1개월 전에 신규로 등록한 중개사의 경우 당연히 연장 횟수가 최대 1회일 수밖에 없다.<br>\n",
    "따라서, 12개월치의 데이터만 추출하여 평균 연장 횟수를 계산했다.<br>\n",
    "ex) 11개월 전 ~ 현재까지 신규로 등록한 중개사 데이터 제외, 그 이전에 신규로 등록한 중개사는 최대 12개월치 데이터만 가지고 계산"
   ]
  },
  {
   "cell_type": "code",
   "execution_count": 316,
   "metadata": {},
   "outputs": [
    {
     "name": "stdout",
     "output_type": "stream",
     "text": [
      "평균연장횟수: 12.54\n"
     ]
    }
   ],
   "source": [
    "from datetime import date\n",
    "from dateutil.relativedelta import relativedelta\n",
    "\n",
    "## 평균 연장 횟수\n",
    "\n",
    "# 중개사별 첫 구매 날짜\n",
    "first_purchase_date = df.loc[df['신규연장'] == '신규', ['날짜', 'register_number']].rename(columns={'날짜': '신규가입날짜'})\n",
    "\n",
    "# 월 단위로 변경\n",
    "first_purchase_date['신규가입날짜'] =  pd.to_datetime(first_purchase_date['신규가입날짜']).dt.strftime('%Y-%m')\n",
    "\n",
    "# 기존 데이터에 첫 구매 날짜 join\n",
    "df = df.merge(first_purchase_date, on='register_number', how='left')\n",
    "\n",
    "# 연장 날짜 - 첫 구매 날짜 계산\n",
    "df['연장경과개월'] = (\n",
    "    (pd.to_datetime(df['날짜']).dt.year - pd.to_datetime(df['신규가입날짜'], format='%Y-%m').dt.year) * 12 +\n",
    "    (pd.to_datetime(df['날짜']).dt.month - pd.to_datetime(df['신규가입날짜'], format='%Y-%m').dt.month)\n",
    ")\n",
    "\n",
    "# 첫 구매일로부터 1개월 단위로 연장한 횟수\n",
    "df_cohort = df.groupby(['신규가입날짜', '연장경과개월'])['register_number'].nunique().reset_index()\n",
    "\n",
    "# 11개월 경과까지의 데이터만 선택. 12개월치 데이터가 없는 중개사는 선택 X\n",
    "year_month_of_12_ago = (date.today() - relativedelta(months=12)).strftime('%Y-%m')\n",
    "condition1 = (df_cohort['연장경과개월'] < 12)\n",
    "condition2 = (df_cohort['신규가입날짜'] <= year_month_of_12_ago)\n",
    "condition3 = (df_cohort['연장경과개월'] != 0)\n",
    "df_cohort = df_cohort.loc[condition1 & condition2 & condition3]\n",
    "\n",
    "# 평균 연장 횟수\n",
    "년월기준신규중개사수 = df_cohort.loc[df_cohort['연장경과개월'] == 1].groupby('신규가입날짜')['register_number'].sum().reset_index()['register_number'].sum()\n",
    "년월기준연장중개사수 = df_cohort.loc[df_cohort['연장경과개월'] != 1].groupby('신규가입날짜')['register_number'].sum().reset_index()['register_number'].sum()\n",
    "print(\"평균연장횟수:\", 년월기준연장중개사수/년월기준신규중개사수)"
   ]
  },
  {
   "cell_type": "markdown",
   "metadata": {},
   "source": [
    "#### 2-3. 1회 연장 당 평균적으로 걸리는 기간 \n",
    "- 월 단위로 계산. 같은 달에 연장을 한 경우는 제외 하고 계산(제외하지 않은 경우도 계산해보았음)\n",
    "- SQL의 윈도우 함수와 같은 방식으로 적용\n",
    "SELECT register_number, TIMESTAMPDIFF(MONTH, 년월) OVER (PARTITION BY register_number\n",
    "\t\t\t\t\t   ORDER BY 년월 ACS\n",
    "\t\t\t\t\t   ROWS PRECENDING) AS month_diff<br>\n",
    "FROM df"
   ]
  },
  {
   "cell_type": "code",
   "execution_count": 317,
   "metadata": {},
   "outputs": [
    {
     "name": "stdout",
     "output_type": "stream",
     "text": [
      "     register_number         년월 month_diff\n",
      "0           RN000001 2024-11-01       None\n",
      "7802        RN000002 2023-01-01        NaN\n",
      "7803        RN000002 2023-01-01        0.0\n",
      "7804        RN000002 2023-01-01        0.0\n",
      "7805        RN000002 2023-01-01        0.0\n",
      "...              ...        ...        ...\n",
      "3191        RN001000 2024-09-01        0.0\n",
      "2473        RN001000 2024-10-01        0.0\n",
      "2474        RN001000 2024-10-01        0.0\n",
      "2475        RN001000 2024-10-01        0.0\n",
      "2476        RN001000 2024-10-01        0.0\n",
      "\n",
      "[8223 rows x 3 columns]\n"
     ]
    }
   ],
   "source": [
    "import pandas as pd\n",
    "\n",
    "# '년월' 컬럼 생성\n",
    "df['년월'] = pd.to_datetime(df['날짜']).dt.strftime('%Y-%m')\n",
    "\n",
    "# '년월' 컬럼이 이미 datetime 형식이 아니면 datetime 형식으로 변환\n",
    "df['년월'] = pd.to_datetime(df['년월'], errors='coerce')\n",
    "\n",
    "# 'register_number'와 '년월' 기준으로 정렬\n",
    "df = df.sort_values(by=['register_number', '년월'])\n",
    "\n",
    "# 두 날짜 간의 차이를 월 단위로 계산하는 함수\n",
    "def month_diff(start_date, timedelta):\n",
    "    if pd.notna(start_date) and pd.notna(timedelta):\n",
    "        end_date = start_date + timedelta  # start_date에 timedelta를 더하여 end_date를 계산\n",
    "        return (end_date.year - start_date.year) * 12 + end_date.month - start_date.month\n",
    "    return None\n",
    "\n",
    "\n",
    "# # 각 'register_number'별로 그룹화하고, '년월' 간 차이를 계산\n",
    "df['month_diff'] = df.groupby('register_number')['년월'].apply(\n",
    "    lambda x: x.diff().apply(lambda y: month_diff(x.iloc[0], y) if pd.notna(y) else None)\n",
    ")\n",
    "\n",
    "# 결과 출력\n",
    "print(df[['register_number', '년월', 'month_diff']])"
   ]
  },
  {
   "cell_type": "code",
   "execution_count": 318,
   "metadata": {},
   "outputs": [
    {
     "name": "stdout",
     "output_type": "stream",
     "text": [
      "1.5236051502145922\n"
     ]
    }
   ],
   "source": [
    "# 1회 연장당 평균적으로 걸리는 기간 계산 결과(같은 달에 연장을 한 경우 포함)\n",
    "print(df['month_diff'].mean())"
   ]
  },
  {
   "cell_type": "code",
   "execution_count": 319,
   "metadata": {},
   "outputs": [
    {
     "name": "stdout",
     "output_type": "stream",
     "text": [
      "4.25725338491296\n"
     ]
    }
   ],
   "source": [
    "# 같은 달에 연장을 한 경우 제외\n",
    "print(df.loc[df['month_diff'] != 0, 'month_diff'].mean())"
   ]
  },
  {
   "cell_type": "markdown",
   "metadata": {},
   "source": [
    "#### 2-4. 신규 가입 후, 3개월 안에 이탈하는 이탈률 구하기"
   ]
  },
  {
   "cell_type": "code",
   "execution_count": 320,
   "metadata": {},
   "outputs": [
    {
     "name": "stdout",
     "output_type": "stream",
     "text": [
      "3 미만의 연장경과개월만 있는 그룹:\n",
      "323 명\n",
      "\n",
      "3 이상도 포함된 그룹:\n",
      "7506 명\n"
     ]
    }
   ],
   "source": [
    "# 먼저 '연장경과개월'이 3 미만인 그룹과 3 이상인 그룹을 나눕니다.\n",
    "grouped = df.groupby('register_number')\n",
    "\n",
    "# 3 미만의 연장경과개월만 있는 그룹을 선택하는 조건\n",
    "group_3_less = grouped.filter(lambda x: (x['연장경과개월'] < 3).all())\n",
    "\n",
    "# 3 이상도 포함된 그룹을 선택하는 조건\n",
    "group_3_or_more = grouped.filter(lambda x: (x['연장경과개월'] >= 3).any())\n",
    "\n",
    "# 결과 확인\n",
    "print(\"3 미만의 연장경과개월만 있는 그룹:\")\n",
    "print(len(group_3_less), \"명\")\n",
    "\n",
    "print(\"\\n3 이상도 포함된 그룹:\")\n",
    "print(len(group_3_or_more), \"명\")\n"
   ]
  },
  {
   "cell_type": "code",
   "execution_count": 321,
   "metadata": {},
   "outputs": [
    {
     "name": "stdout",
     "output_type": "stream",
     "text": [
      "4.303 %\n"
     ]
    }
   ],
   "source": [
    "# 신규 가입 후, 3개월 안에 이탈하는 이탈률 계산 결과\n",
    "print(round(len(group_3_less)/len(group_3_or_more) * 100,3), \"%\")"
   ]
  },
  {
   "cell_type": "markdown",
   "metadata": {},
   "source": [
    "#### 2-5. 3개월 이내에 이탈한 인원 제외한 평균 연장 횟수"
   ]
  },
  {
   "cell_type": "code",
   "execution_count": 323,
   "metadata": {},
   "outputs": [
    {
     "name": "stdout",
     "output_type": "stream",
     "text": [
      "평균연장횟수: 12.979166666666666\n"
     ]
    }
   ],
   "source": [
    "# 연장 날짜 - 첫 구매 날짜 계산\n",
    "group_3_or_more['연장경과개월'] = (\n",
    "    (pd.to_datetime(group_3_or_more['날짜']).dt.year - pd.to_datetime(group_3_or_more['신규가입날짜'], format='%Y-%m').dt.year) * 12 +\n",
    "    (pd.to_datetime(group_3_or_more['날짜']).dt.month - pd.to_datetime(group_3_or_more['신규가입날짜'], format='%Y-%m').dt.month)\n",
    ")\n",
    "\n",
    "# 첫 구매일로부터 1개월 단위로 연장한 횟수\n",
    "group_3_or_more_cohort = group_3_or_more.groupby(['신규가입날짜', '연장경과개월'])['register_number'].nunique().reset_index()\n",
    "\n",
    "# 11개월 경과까지의 데이터만 선택. 12개월치 데이터가 없는 중개사는 선택 X\n",
    "year_month_of_12_ago = (date.today() - relativedelta(months=12)).strftime('%Y-%m')\n",
    "condition1 = (group_3_or_more_cohort['연장경과개월'] < 12)\n",
    "condition2 = (group_3_or_more_cohort['신규가입날짜'] <= year_month_of_12_ago)\n",
    "condition3 = (group_3_or_more_cohort['연장경과개월'] != 0)\n",
    "group_3_or_more_cohort = group_3_or_more_cohort.loc[condition1 & condition2 & condition3]\n",
    "\n",
    "# 평균 연장 횟수\n",
    "년월기준신규중개사수 = group_3_or_more_cohort.loc[group_3_or_more_cohort['연장경과개월'] == 1].groupby('신규가입날짜')['register_number'].sum().reset_index()['register_number'].sum()\n",
    "년월기준연장중개사수 = group_3_or_more_cohort.loc[group_3_or_more_cohort['연장경과개월'] != 1].groupby('신규가입날짜')['register_number'].sum().reset_index()['register_number'].sum()\n",
    "print(\"평균연장횟수:\",년월기준연장중개사수/년월기준신규중개사수)"
   ]
  },
  {
   "cell_type": "markdown",
   "metadata": {},
   "source": [
    "### 3. 1차 후행 지표 선정\n",
    "\n",
    "1회 연장 당 평균적으로 걸리는 기간은 업계 특성상 쉽게 바뀔 수 없다.<br>\n",
    "억지로 기간을 줄이려고 하면 역효과가 나타날 수 있다.<br>\n",
    "또한, 평균 연장 횟수가 같이 늘어나지 않는 이상 연장 기간이 줄어드는건 수치상 큰 의미는 없다.<br>\n",
    "따라서, 매출을 늘리기 위해 개선이 필요한 지표는 다음과 같다.\n",
    "\n",
    "**개선이 필요한 지표**\n",
    "- 신규 중개사 수\n",
    "- 평균 연장 횟수\n",
    "- ARPPU\n",
    "\n",
    "이를 식으로 대략적으로 나타내면 다음과 같다.\n",
    "\n",
    "$ 매출 = (신규 중개사 수 + (신규 중개사 수 \\times 평균 연장 횟수)) * ARPPU $\n",
    "\n",
    "신규 중개사 수는 단위가 크지만, 평균 연장 횟수는 단위가 작으므로 1회만 늘려도 큰 효과를 볼 수 있다.<br>\n",
    "ex) 1개월당 꾸준히 유입되는 신규 중개사가 50명이 넘는 상황에서는 신규 중개사 10명 늘리는 것보다 평균 연장 횟수 1회 늘리는 게 더 큰 효과를 본다.<br>\n",
    "\n",
    "ARPPU는 영업팀, 경영전략팀에서 전담해서 맡고 있기 때문에 ARPPU에 악영향을 주지 않는 방향으로 나머지 2지표에 집중하기로 했다.\n",
    "\n",
    "- 평균 연장 횟수는 서비스 팀, 마케팅 팀에서 서포트 가능.\n",
    "- 신규 중개사 수는 마케팅 팀에서 서포트 가능.\n",
    "\n",
    "평균 연장 횟수에 기여하는 지표가 무엇인지 조사해보았다."
   ]
  },
  {
   "cell_type": "markdown",
   "metadata": {},
   "source": [
    "#### 3-1. 3개월 이내 이탈하는 중개사의 이탈률\n",
    "- 3개월 이내 이탈하는 중개사의 비율을 00%로 꽤 높은 편이다.\n",
    "- 반면 한 번 연장을 한 중개사의 경우 평균적으로 00번 연장을 했다.\n",
    "- 중개사들이 3개월 이내에 이탈하지 않게 만들면, 평균 연장 횟수를 많이 높일 수 있다.\n",
    "- 3개월 이내에 이탈한 중개사 그룹과 이탈하지 않은 그룹의 중개사들의 차이점을 알아보기로 했다."
   ]
  },
  {
   "cell_type": "markdown",
   "metadata": {},
   "source": [
    "#### 3-2. 3개월 이내에 이탈하는 중개사 vs 이탈하지 않는 중개사의 평균적으로 받는 문의 횟수"
   ]
  },
  {
   "cell_type": "markdown",
   "metadata": {},
   "source": [
    "#### 3-3. 두 그룹의 최초 구매시 평균 단가"
   ]
  },
  {
   "cell_type": "markdown",
   "metadata": {},
   "source": []
  },
  {
   "cell_type": "code",
   "execution_count": null,
   "metadata": {},
   "outputs": [],
   "source": []
  },
  {
   "cell_type": "markdown",
   "metadata": {},
   "source": [
    "지금까지는 평균 연장 횟수를 전체 중개사 대상으로 조사했지만, 개별 조사도 필요하다.<br>\n",
    "평균 연장 횟수의 분산을 통해 상위 20% 그룹, 중간 그룹, 하위 20% 그룹으로 나누었다.\n",
    "\n",
    "각 그룹 대상으로 다시 지표를 살펴보았다."
   ]
  },
  {
   "cell_type": "markdown",
   "metadata": {},
   "source": []
  },
  {
   "cell_type": "code",
   "execution_count": null,
   "metadata": {},
   "outputs": [],
   "source": []
  },
  {
   "cell_type": "markdown",
   "metadata": {},
   "source": [
    "#### 유입 채널에 따른 유입수, 전환율 차이"
   ]
  },
  {
   "cell_type": "code",
   "execution_count": null,
   "metadata": {},
   "outputs": [],
   "source": []
  }
 ],
 "metadata": {
  "kernelspec": {
   "display_name": "base",
   "language": "python",
   "name": "python3"
  },
  "language_info": {
   "codemirror_mode": {
    "name": "ipython",
    "version": 3
   },
   "file_extension": ".py",
   "mimetype": "text/x-python",
   "name": "python",
   "nbconvert_exporter": "python",
   "pygments_lexer": "ipython3",
   "version": "3.8.8"
  }
 },
 "nbformat": 4,
 "nbformat_minor": 2
}
