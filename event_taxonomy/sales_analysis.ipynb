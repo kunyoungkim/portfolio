{
 "cells": [
  {
   "cell_type": "markdown",
   "metadata": {},
   "source": [
    "## 매출에 영향력 높은 후행 지표 찾기"
   ]
  },
  {
   "cell_type": "code",
   "execution_count": null,
   "metadata": {},
   "outputs": [],
   "source": [
    "import pandas as pd\n",
    "import seaborn as sns\n",
    "import matplotlib.pyplot as plt\n",
    "import numpy as np"
   ]
  },
  {
   "cell_type": "code",
   "execution_count": null,
   "metadata": {},
   "outputs": [],
   "source": [
    "base_path = \"C:/Users/dukkubi\"\n",
    "df = pd.read_csv(base_path + \"영업팀 매출 데이터.csv\")\n",
    "form = pd.read_csv(base_path + \"피터팬의 좋은방구하기 입점문의 접수(응답).csv\")\n",
    "agent = pd.read_csv(base_path + \"중개사 데이터.csv\")\n",
    "first_party_db = pd.read_csv(base_path + \"first_party_db.csv\")"
   ]
  },
  {
   "cell_type": "markdown",
   "metadata": {},
   "source": [
    "##### 예시 데이터"
   ]
  },
  {
   "cell_type": "code",
   "execution_count": 138,
   "metadata": {},
   "outputs": [],
   "source": [
    "import pandas as pd\n",
    "import numpy as np\n",
    "import random\n",
    "from datetime import datetime, timedelta\n",
    "\n",
    "# 랜덤 데이터 생성을 위한 seed 설정\n",
    "random.seed(42)\n",
    "\n",
    "# 데이터 크기 설정\n",
    "num_rows = 1000\n",
    "\n",
    "# 데이터 생성\n",
    "regions = ['서울 중구', '서울특별시 강남구', '서울시 도봉구', '부산 서구', '부산광역시 동구', '대구 ', '광주 남구', '대전', '울산', '인천', '제주 서귀포시']\n",
    "companies = ['피터팬의좋은방구하기 공인중개사', '피터팬의 좋은방구하기 공인중개사', '피터팬의좋은방구하기', '피터팬의좋은방구하기 중개사', '피터팬의좋은방구하기 부동산', '피터팬의좋은방구하기 사무소',\n",
    "             '직방 공인중개사', '직방 공인중개사', '직방', '직방 중개사', '직방 부동산', '직방 사무소',\n",
    "             '다방 공인중개사', '다방 공인중개사', '다방', '다방 중개사', '다방 부동산', '다방사무소',\n",
    "             '한방 공인중개사', '한방 공인중개사', '한방', '한방 중개사', '한방 부동산', '한방 부동산사무소',\n",
    "             '부동산119 공인중개사', '부동산119 공인중개사', '부동산119', '부동산119 중개사', '부동산119 부동산',\n",
    "             '리치고 공인중개사', '리치고 공인중개사', '리치고', '리치고 중개사', '리치고 부동산',\n",
    "             ]\n",
    "persons = ['김건영', '김건영 ', '김건영(대표자)', ' 김건영', ' 김건영 ',\n",
    "           '중개사1', '중개사2', '중개사3', '중개사4', '중개사5', '중개사6', '중개사7', '중개사8'\n",
    "             ]\n",
    "\n",
    "# 열 데이터 생성\n",
    "지역 = np.random.choice(regions, num_rows)\n",
    "상호 = np.random.choice(companies, num_rows)\n",
    "대표자 = np.random.choice(persons, num_rows)\n",
    "\n",
    "# 다양한 형식의 매출액 데이터 생성\n",
    "매출액 = [\n",
    "    random.choice([\n",
    "        random.randint(10000, 1000000),  # 숫자\n",
    "        '',  # 빈 문자열\n",
    "        f\"{random.randint(1000, 1000000):,}\",  # 쉼표 포함 숫자\n",
    "        f\"-{random.randint(1000, 100000)}\"  # 음수\n",
    "    ]) for _ in range(num_rows)\n",
    "]\n",
    "\n",
    "# 음수 매출액의 경우 '환불'로 설정\n",
    "def generate_신규연장(value):\n",
    "    if isinstance(value, str) and value.startswith('-'):\n",
    "        return '환불'\n",
    "    return np.random.choice(['신규', '연장', None], p=[0.5, 0.4, 0.1])\n",
    "\n",
    "신규연장 = [generate_신규연장(value) for value in 매출액]\n",
    "\n",
    "날짜 = [(datetime.today() - timedelta(days=random.randint(0, 365 * 2))).strftime('%Y-%m-%d') for _ in range(num_rows)]\n",
    "register_numbers = [f\"RN{str(i).zfill(6)}\" for i in range(1, num_rows + 1)]\n",
    "\n",
    "# 데이터프레임 생성\n",
    "df = pd.DataFrame({\n",
    "    '지역': 지역,\n",
    "    '상호': 상호,\n",
    "    '대표자': 대표자,\n",
    "    '매출액': 매출액,\n",
    "    '날짜': 날짜,\n",
    "    '신규연장': 신규연장\n",
    "})\n",
    "\n",
    "# first_party_db 생성\n",
    "first_party_db = pd.DataFrame({\n",
    "    '지역': df['지역'],\n",
    "    '상호': df['상호'],\n",
    "    '대표자': df['대표자'],\n",
    "    'register_number': register_numbers\n",
    "}).drop_duplicates()"
   ]
  },
  {
   "cell_type": "markdown",
   "metadata": {},
   "source": [
    "### 1. 전처리"
   ]
  },
  {
   "cell_type": "markdown",
   "metadata": {},
   "source": [
    "##### 1-1. 중개사 식별 key 만들기\n",
    "영업팀 매출 데이터에 중개사를 식별하는 key가 존재하지 않는다.<br>\n",
    "따라서, 지역 + 상호 + 대표자 데이터를 공공 데이터의 지역 + 상호 + 대표자와 join 하여 등록번호를 부여했다.<br>\n",
    "공공 데이터의 경우, vworld 사이트에서 중개사 데이터를 크롤링 후, MySQL에 적재하였다.\n",
    "\n",
    "**정규식으로 전처리**<br>\n",
    "영업팀 매출 시트 데이터에서 아래에 해당하는 부분만 제거\n",
    "\n",
    "상호\n",
    "- 공인\n",
    "- 중개사\n",
    "- 중개\n",
    "- 사무소\n",
    "- 부동산\n",
    "- 법인\n",
    "- 법인분\n",
    "- 공백 앞,뒤,가운데\n",
    "- 주식회사\n",
    "- 분사무소\n",
    "- (주)\n",
    "- 괄호 + 괄호 안에 문자\n",
    "- .\n",
    "- 선발행요청\n",
    "- 소문자는 전부 대문자로 변경\n",
    "\n",
    "\n",
    "대표자 이름\n",
    "- 앞뒤공백\n",
    "- 대괄호 + 괄호 안에 문자\n",
    "- 소괄호() + 괄호 안에 문자\n",
    "- (뒤에 문자 제거\n",
    " [뒤에 문자 제거\n",
    "\n",
    "\n",
    "시도\n",
    "- 광역\n",
    "- 특별\n",
    "- 경기도\n",
    "\n",
    "시군구\n",
    "- 서울, 부산 제외하고 구 삭제"
   ]
  },
  {
   "cell_type": "code",
   "execution_count": 139,
   "metadata": {},
   "outputs": [],
   "source": [
    "import re\n",
    "\n",
    "def preprocess_sangho(text):\n",
    "    try:\n",
    "        if isinstance(text, str):\n",
    "            # 정규식 패턴들\n",
    "            patterns = [\n",
    "                r'(공인|중개사|중개|분사무소|사무소|부동산|법인분|법인|주식회사)',\n",
    "                r'\\([^()]*\\)',  # 괄호와 괄호 안의 문자 모두 삭제\n",
    "                r'\\s+',\n",
    "                r'\\.',          # 점 삭제\n",
    "                r'선발행요청'\n",
    "            ]\n",
    "\n",
    "            # 각 패턴을 제거하고 대문자로 변환\n",
    "            for pattern in patterns:\n",
    "                text = re.sub(pattern, '', text)\n",
    "\n",
    "            # 대문자로 변환\n",
    "            text = text.upper()\n",
    "    except Exception as e:\n",
    "        pass\n",
    "\n",
    "    return text\n",
    "\n",
    "\n",
    "def preprocess_name(text):\n",
    "    try:\n",
    "        if isinstance(text, str):\n",
    "            # 정규식 패턴들\n",
    "            patterns = [\n",
    "                r'\\s+',  # 공백 제거\n",
    "                r'\\[(.*?)\\]',  # 대괄호 안의 문자 제거\n",
    "                r'\\((.*?)\\)',  # 소괄호 안의 문자 제거\n",
    "                r'\\(([^()]*)$',  # 소괄호 뒤에 문자 제거\n",
    "                r'\\[([^[\\]]*)$'  # 대괄호 뒤에 문자 제거\n",
    "            ]\n",
    "\n",
    "            # 각 패턴을 제거하고 대문자로 변환\n",
    "            for pattern in patterns:\n",
    "                text = re.sub(pattern, '', text)\n",
    "\n",
    "    except Exception as e:\n",
    "        pass\n",
    "\n",
    "    return text\n",
    "\n",
    "\n",
    "def preprocess_sido(text):\n",
    "    try:\n",
    "        if isinstance(text, str):\n",
    "            # 정규식 패턴들\n",
    "            patterns = [\n",
    "                r'\\s+',  # 공백 제거,\n",
    "                r'광역|특별|경기도|시'\n",
    "            ]\n",
    "\n",
    "            # 각 패턴을 제거\n",
    "            for pattern in patterns:\n",
    "                text = re.sub(pattern, '', text)\n",
    "\n",
    "    except Exception as e:\n",
    "        pass\n",
    "\n",
    "    return text"
   ]
  },
  {
   "cell_type": "code",
   "execution_count": 80,
   "metadata": {},
   "outputs": [
    {
     "name": "stdout",
     "output_type": "stream",
     "text": [
      "AAG하남\n"
     ]
    }
   ],
   "source": [
    "# 테스트 문자열\n",
    "text = \"aAg 하남(주)중개사중개 (하남) 사무소 부동산 법인 법인분 주식회사 분사무소 . 선발행요청\"\n",
    "\n",
    "# 전처리된 문자열 출력\n",
    "print(preprocess_sangho(text))"
   ]
  },
  {
   "cell_type": "code",
   "execution_count": 81,
   "metadata": {},
   "outputs": [
    {
     "name": "stdout",
     "output_type": "stream",
     "text": [
      "김건영\n"
     ]
    }
   ],
   "source": [
    "# 테스트 문자열\n",
    "text = \"김건영[건영킴](건영킴) (11 [22 (33 )\"\n",
    "\n",
    "# 전처리된 문자열 출력\n",
    "print(preprocess_name(text))"
   ]
  },
  {
   "cell_type": "code",
   "execution_count": 82,
   "metadata": {},
   "outputs": [
    {
     "name": "stdout",
     "output_type": "stream",
     "text": [
      "서울강남구서울도봉구서울수원부산해운대구대구광주서울제주도서귀포\n"
     ]
    }
   ],
   "source": [
    "# 테스트 문자열\n",
    "text = \"서울특별시 강남구 특별시 서울 도봉구 서울시 경기도 수원시 광역시 부산광역시 해운대구 대구광역시 광주광역시 서울특별시 제주도 서귀포시\"\n",
    "\n",
    "# 전처리된 문자열 출력\n",
    "print(preprocess_sido(text))"
   ]
  },
  {
   "cell_type": "code",
   "execution_count": 140,
   "metadata": {},
   "outputs": [],
   "source": [
    "# 정규식 적용\n",
    "df['상호'] = df['상호'].apply(lambda x: preprocess_sangho(x))\n",
    "df['대표자'] = df['대표자'].apply(lambda x: preprocess_name(x))\n",
    "df['지역'] = df['지역'].apply(lambda x: preprocess_sido(x))\n",
    "\n",
    "first_party_db['상호'] = first_party_db['상호'].apply(lambda x: preprocess_sangho(x))\n",
    "first_party_db['대표자'] = first_party_db['대표자'].apply(lambda x: preprocess_name(x))\n",
    "first_party_db['지역'] = first_party_db['지역'].apply(lambda x: preprocess_sido(x))"
   ]
  },
  {
   "cell_type": "code",
   "execution_count": 141,
   "metadata": {},
   "outputs": [
    {
     "name": "stdout",
     "output_type": "stream",
     "text": [
      "427 427\n"
     ]
    }
   ],
   "source": [
    "# 지역 + 상호 + 대표자 합치기\n",
    "df['지역 상호 대표자'] = df['지역'] + ' ' + df['상호'] + ' ' + df['대표자']\n",
    "first_party_db['지역 상호 대표자'] = first_party_db['지역'] + ' ' + first_party_db['상호'] + ' ' + first_party_db['대표자']\n",
    "print(len(df['지역 상호 대표자'].unique()), len(first_party_db['지역 상호 대표자'].unique()))"
   ]
  },
  {
   "cell_type": "code",
   "execution_count": 134,
   "metadata": {},
   "outputs": [
    {
     "name": "stdout",
     "output_type": "stream",
     "text": [
      "['부산동구' '제주서귀포' '울산' '대전' '광주남구' '서울강남구' '부산서구' '대구' '인천' '서울중구' '서울도봉구'] \n",
      " ['피터팬의좋은방구하기' '다방' '리치고' '한방' '직방' '119'] \n",
      " ['중개사2' '중개사4' '김건영' '중개사5' '중개사1' '중개사8' '중개사6' '중개사3' '중개사7']\n"
     ]
    }
   ],
   "source": [
    "# 데이터 이상 없는지 학인\n",
    "print(df['지역'].unique(), \"\\n\", df['상호'].unique(), \"\\n\", df['대표자'].unique())"
   ]
  },
  {
   "cell_type": "code",
   "execution_count": 143,
   "metadata": {},
   "outputs": [
    {
     "data": {
      "text/html": [
       "<div>\n",
       "<style scoped>\n",
       "    .dataframe tbody tr th:only-of-type {\n",
       "        vertical-align: middle;\n",
       "    }\n",
       "\n",
       "    .dataframe tbody tr th {\n",
       "        vertical-align: top;\n",
       "    }\n",
       "\n",
       "    .dataframe thead th {\n",
       "        text-align: right;\n",
       "    }\n",
       "</style>\n",
       "<table border=\"1\" class=\"dataframe\">\n",
       "  <thead>\n",
       "    <tr style=\"text-align: right;\">\n",
       "      <th></th>\n",
       "      <th>지역</th>\n",
       "      <th>상호</th>\n",
       "      <th>대표자</th>\n",
       "      <th>매출액</th>\n",
       "      <th>날짜</th>\n",
       "      <th>신규연장</th>\n",
       "      <th>지역 상호 대표자</th>\n",
       "      <th>register_number</th>\n",
       "    </tr>\n",
       "  </thead>\n",
       "  <tbody>\n",
       "    <tr>\n",
       "      <th>0</th>\n",
       "      <td>부산동구</td>\n",
       "      <td>피터팬의좋은방구하기</td>\n",
       "      <td>중개사2</td>\n",
       "      <td>117,739</td>\n",
       "      <td>2024-11-12</td>\n",
       "      <td>신규</td>\n",
       "      <td>부산동구 피터팬의좋은방구하기 중개사2</td>\n",
       "      <td>RN000001</td>\n",
       "    </tr>\n",
       "    <tr>\n",
       "      <th>1</th>\n",
       "      <td>부산동구</td>\n",
       "      <td>피터팬의좋은방구하기</td>\n",
       "      <td>중개사2</td>\n",
       "      <td>117,739</td>\n",
       "      <td>2024-11-12</td>\n",
       "      <td>신규</td>\n",
       "      <td>부산동구 피터팬의좋은방구하기 중개사2</td>\n",
       "      <td>RN000049</td>\n",
       "    </tr>\n",
       "    <tr>\n",
       "      <th>2</th>\n",
       "      <td>부산동구</td>\n",
       "      <td>피터팬의좋은방구하기</td>\n",
       "      <td>중개사2</td>\n",
       "      <td>117,739</td>\n",
       "      <td>2024-11-12</td>\n",
       "      <td>신규</td>\n",
       "      <td>부산동구 피터팬의좋은방구하기 중개사2</td>\n",
       "      <td>RN000180</td>\n",
       "    </tr>\n",
       "    <tr>\n",
       "      <th>3</th>\n",
       "      <td>부산동구</td>\n",
       "      <td>피터팬의좋은방구하기</td>\n",
       "      <td>중개사2</td>\n",
       "      <td>117,739</td>\n",
       "      <td>2024-11-12</td>\n",
       "      <td>신규</td>\n",
       "      <td>부산동구 피터팬의좋은방구하기 중개사2</td>\n",
       "      <td>RN000237</td>\n",
       "    </tr>\n",
       "    <tr>\n",
       "      <th>4</th>\n",
       "      <td>부산동구</td>\n",
       "      <td>피터팬의좋은방구하기</td>\n",
       "      <td>중개사2</td>\n",
       "      <td>117,739</td>\n",
       "      <td>2024-11-12</td>\n",
       "      <td>신규</td>\n",
       "      <td>부산동구 피터팬의좋은방구하기 중개사2</td>\n",
       "      <td>RN000595</td>\n",
       "    </tr>\n",
       "    <tr>\n",
       "      <th>...</th>\n",
       "      <td>...</td>\n",
       "      <td>...</td>\n",
       "      <td>...</td>\n",
       "      <td>...</td>\n",
       "      <td>...</td>\n",
       "      <td>...</td>\n",
       "      <td>...</td>\n",
       "      <td>...</td>\n",
       "    </tr>\n",
       "    <tr>\n",
       "      <th>3745</th>\n",
       "      <td>대전</td>\n",
       "      <td>피터팬의좋은방구하기</td>\n",
       "      <td>김건영</td>\n",
       "      <td>249499</td>\n",
       "      <td>2023-02-13</td>\n",
       "      <td>연장</td>\n",
       "      <td>대전 피터팬의좋은방구하기 김건영</td>\n",
       "      <td>RN000881</td>\n",
       "    </tr>\n",
       "    <tr>\n",
       "      <th>3746</th>\n",
       "      <td>대전</td>\n",
       "      <td>피터팬의좋은방구하기</td>\n",
       "      <td>김건영</td>\n",
       "      <td>249499</td>\n",
       "      <td>2023-02-13</td>\n",
       "      <td>연장</td>\n",
       "      <td>대전 피터팬의좋은방구하기 김건영</td>\n",
       "      <td>RN000989</td>\n",
       "    </tr>\n",
       "    <tr>\n",
       "      <th>3747</th>\n",
       "      <td>대전</td>\n",
       "      <td>피터팬의좋은방구하기</td>\n",
       "      <td>김건영</td>\n",
       "      <td>249499</td>\n",
       "      <td>2023-02-13</td>\n",
       "      <td>연장</td>\n",
       "      <td>대전 피터팬의좋은방구하기 김건영</td>\n",
       "      <td>RN000999</td>\n",
       "    </tr>\n",
       "    <tr>\n",
       "      <th>3748</th>\n",
       "      <td>대전</td>\n",
       "      <td>119</td>\n",
       "      <td>중개사2</td>\n",
       "      <td></td>\n",
       "      <td>2023-08-12</td>\n",
       "      <td>연장</td>\n",
       "      <td>대전 119 중개사2</td>\n",
       "      <td>RN000314</td>\n",
       "    </tr>\n",
       "    <tr>\n",
       "      <th>3749</th>\n",
       "      <td>대전</td>\n",
       "      <td>119</td>\n",
       "      <td>중개사2</td>\n",
       "      <td></td>\n",
       "      <td>2023-08-12</td>\n",
       "      <td>연장</td>\n",
       "      <td>대전 119 중개사2</td>\n",
       "      <td>RN001000</td>\n",
       "    </tr>\n",
       "  </tbody>\n",
       "</table>\n",
       "<p>3750 rows × 8 columns</p>\n",
       "</div>"
      ],
      "text/plain": [
       "        지역          상호   대표자      매출액          날짜 신규연장             지역 상호 대표자  \\\n",
       "0     부산동구  피터팬의좋은방구하기  중개사2  117,739  2024-11-12   신규  부산동구 피터팬의좋은방구하기 중개사2   \n",
       "1     부산동구  피터팬의좋은방구하기  중개사2  117,739  2024-11-12   신규  부산동구 피터팬의좋은방구하기 중개사2   \n",
       "2     부산동구  피터팬의좋은방구하기  중개사2  117,739  2024-11-12   신규  부산동구 피터팬의좋은방구하기 중개사2   \n",
       "3     부산동구  피터팬의좋은방구하기  중개사2  117,739  2024-11-12   신규  부산동구 피터팬의좋은방구하기 중개사2   \n",
       "4     부산동구  피터팬의좋은방구하기  중개사2  117,739  2024-11-12   신규  부산동구 피터팬의좋은방구하기 중개사2   \n",
       "...    ...         ...   ...      ...         ...  ...                   ...   \n",
       "3745    대전  피터팬의좋은방구하기   김건영   249499  2023-02-13   연장     대전 피터팬의좋은방구하기 김건영   \n",
       "3746    대전  피터팬의좋은방구하기   김건영   249499  2023-02-13   연장     대전 피터팬의좋은방구하기 김건영   \n",
       "3747    대전  피터팬의좋은방구하기   김건영   249499  2023-02-13   연장     대전 피터팬의좋은방구하기 김건영   \n",
       "3748    대전         119  중개사2           2023-08-12   연장           대전 119 중개사2   \n",
       "3749    대전         119  중개사2           2023-08-12   연장           대전 119 중개사2   \n",
       "\n",
       "     register_number  \n",
       "0           RN000001  \n",
       "1           RN000049  \n",
       "2           RN000180  \n",
       "3           RN000237  \n",
       "4           RN000595  \n",
       "...              ...  \n",
       "3745        RN000881  \n",
       "3746        RN000989  \n",
       "3747        RN000999  \n",
       "3748        RN000314  \n",
       "3749        RN001000  \n",
       "\n",
       "[3750 rows x 8 columns]"
      ]
     },
     "execution_count": 143,
     "metadata": {},
     "output_type": "execute_result"
    }
   ],
   "source": [
    "# 영업팀 매출 시트와 vworld 공공 데이터를 '지역 + 상호 + 대표자' 기준으로 left join\n",
    "df['지역 상호 대표자'] = df['지역']  + ' ' + df['상호'] + ' ' + df['대표자']\n",
    "\n",
    "first_party_db['지역 상호 대표자'] = df['지역']  + ' ' + df['상호'] + ' ' + df['대표자']\n",
    "first_party_db = first_party_db[['지역 상호 대표자', 'register_number']]\n",
    "\n",
    "df = df.merge(first_party_db, on='지역 상호 대표자', how='left')\n",
    "df"
   ]
  },
  {
   "cell_type": "code",
   "execution_count": 144,
   "metadata": {},
   "outputs": [
    {
     "name": "stdout",
     "output_type": "stream",
     "text": [
      "<class 'pandas.core.frame.DataFrame'>\n",
      "Int64Index: 3750 entries, 0 to 3749\n",
      "Data columns (total 8 columns):\n",
      " #   Column           Non-Null Count  Dtype \n",
      "---  ------           --------------  ----- \n",
      " 0   지역               3750 non-null   object\n",
      " 1   상호               3750 non-null   object\n",
      " 2   대표자              3750 non-null   object\n",
      " 3   매출액              3750 non-null   object\n",
      " 4   날짜               3750 non-null   object\n",
      " 5   신규연장             3477 non-null   object\n",
      " 6   지역 상호 대표자        3750 non-null   object\n",
      " 7   register_number  3750 non-null   object\n",
      "dtypes: object(8)\n",
      "memory usage: 263.7+ KB\n"
     ]
    }
   ],
   "source": [
    "df.info()"
   ]
  },
  {
   "cell_type": "markdown",
   "metadata": {},
   "source": [
    "##### 1-2. 매출액 전처리"
   ]
  },
  {
   "cell_type": "code",
   "execution_count": 145,
   "metadata": {},
   "outputs": [
    {
     "data": {
      "text/plain": [
       "0       117,739\n",
       "1       117,739\n",
       "2       117,739\n",
       "3       117,739\n",
       "4       117,739\n",
       "         ...   \n",
       "3745     249499\n",
       "3746     249499\n",
       "3747     249499\n",
       "3748           \n",
       "3749           \n",
       "Name: 매출액, Length: 3750, dtype: object"
      ]
     },
     "execution_count": 145,
     "metadata": {},
     "output_type": "execute_result"
    }
   ],
   "source": [
    "df['매출액']"
   ]
  },
  {
   "cell_type": "code",
   "execution_count": 146,
   "metadata": {},
   "outputs": [
    {
     "name": "stdout",
     "output_type": "stream",
     "text": [
      "0       117739\n",
      "1       117739\n",
      "2       117739\n",
      "3       117739\n",
      "4       117739\n",
      "         ...  \n",
      "3745    249499\n",
      "3746    249499\n",
      "3747    249499\n",
      "3748         0\n",
      "3749         0\n",
      "Name: 매출액, Length: 3750, dtype: int64\n"
     ]
    }
   ],
   "source": [
    "# 매출액 전처리 함수\n",
    "def preprocess_sales(sales):\n",
    "    try:\n",
    "        # 빈 문자열은 0으로 처리\n",
    "        if sales == '':\n",
    "            return 0\n",
    "        # 문자열일 경우 쉼표 제거 후 숫자로 변환\n",
    "        if isinstance(sales, str):\n",
    "            return int(sales.replace(',', ''))\n",
    "        # 이미 숫자인 경우 그대로 반환\n",
    "        return int(sales)\n",
    "    except ValueError:\n",
    "        # 변환 실패 시 NaN 반환\n",
    "        return np.nan\n",
    "\n",
    "# 매출액 열 전처리\n",
    "df['매출액'] = df['매출액'].apply(preprocess_sales)\n",
    "\n",
    "# 결과 출력\n",
    "print(df['매출액'])"
   ]
  },
  {
   "cell_type": "markdown",
   "metadata": {},
   "source": [
    "##### 1-3. '신규연장' 열에 데이터가 없는 경우 '신규' 인지, '연장'인지 \n",
    "- '신규연장' 열은 최초구매 데이터인지, 재구매 데이터인지, 환불 데이터인지를 구분해주는 Columns이다."
   ]
  },
  {
   "cell_type": "code",
   "execution_count": 147,
   "metadata": {},
   "outputs": [
    {
     "data": {
      "text/plain": [
       "신규     1430\n",
       "연장     1025\n",
       "환불     1022\n",
       "NaN     273\n",
       "Name: 신규연장, dtype: int64"
      ]
     },
     "execution_count": 147,
     "metadata": {},
     "output_type": "execute_result"
    }
   ],
   "source": [
    "df['신규연장'].value_counts(dropna=False)"
   ]
  },
  {
   "cell_type": "code",
   "execution_count": 168,
   "metadata": {},
   "outputs": [
    {
     "data": {
      "text/html": [
       "<div>\n",
       "<style scoped>\n",
       "    .dataframe tbody tr th:only-of-type {\n",
       "        vertical-align: middle;\n",
       "    }\n",
       "\n",
       "    .dataframe tbody tr th {\n",
       "        vertical-align: top;\n",
       "    }\n",
       "\n",
       "    .dataframe thead th {\n",
       "        text-align: right;\n",
       "    }\n",
       "</style>\n",
       "<table border=\"1\" class=\"dataframe\">\n",
       "  <thead>\n",
       "    <tr style=\"text-align: right;\">\n",
       "      <th></th>\n",
       "      <th>지역 상호 대표자</th>\n",
       "      <th>최초구매날짜</th>\n",
       "    </tr>\n",
       "  </thead>\n",
       "  <tbody>\n",
       "    <tr>\n",
       "      <th>0</th>\n",
       "      <td>광주남구 119 김건영</td>\n",
       "      <td>2023-02-28</td>\n",
       "    </tr>\n",
       "    <tr>\n",
       "      <th>1</th>\n",
       "      <td>광주남구 다방 중개사7</td>\n",
       "      <td>2024-02-19</td>\n",
       "    </tr>\n",
       "    <tr>\n",
       "      <th>2</th>\n",
       "      <td>광주남구 리치고 중개사2</td>\n",
       "      <td>2023-01-08</td>\n",
       "    </tr>\n",
       "    <tr>\n",
       "      <th>3</th>\n",
       "      <td>광주남구 직방 중개사3</td>\n",
       "      <td>2023-05-06</td>\n",
       "    </tr>\n",
       "    <tr>\n",
       "      <th>4</th>\n",
       "      <td>광주남구 직방 중개사8</td>\n",
       "      <td>2023-02-27</td>\n",
       "    </tr>\n",
       "    <tr>\n",
       "      <th>...</th>\n",
       "      <td>...</td>\n",
       "      <td>...</td>\n",
       "    </tr>\n",
       "    <tr>\n",
       "      <th>61</th>\n",
       "      <td>제주서귀포 119 김건영</td>\n",
       "      <td>2023-01-29</td>\n",
       "    </tr>\n",
       "    <tr>\n",
       "      <th>62</th>\n",
       "      <td>제주서귀포 리치고 김건영</td>\n",
       "      <td>2023-01-17</td>\n",
       "    </tr>\n",
       "    <tr>\n",
       "      <th>63</th>\n",
       "      <td>제주서귀포 리치고 중개사6</td>\n",
       "      <td>2023-09-18</td>\n",
       "    </tr>\n",
       "    <tr>\n",
       "      <th>64</th>\n",
       "      <td>제주서귀포 직방 중개사3</td>\n",
       "      <td>2024-03-22</td>\n",
       "    </tr>\n",
       "    <tr>\n",
       "      <th>65</th>\n",
       "      <td>제주서귀포 피터팬의좋은방구하기 김건영</td>\n",
       "      <td>2023-03-12</td>\n",
       "    </tr>\n",
       "  </tbody>\n",
       "</table>\n",
       "<p>66 rows × 2 columns</p>\n",
       "</div>"
      ],
      "text/plain": [
       "               지역 상호 대표자      최초구매날짜\n",
       "0           광주남구 119 김건영  2023-02-28\n",
       "1           광주남구 다방 중개사7  2024-02-19\n",
       "2          광주남구 리치고 중개사2  2023-01-08\n",
       "3           광주남구 직방 중개사3  2023-05-06\n",
       "4           광주남구 직방 중개사8  2023-02-27\n",
       "..                   ...         ...\n",
       "61         제주서귀포 119 김건영  2023-01-29\n",
       "62         제주서귀포 리치고 김건영  2023-01-17\n",
       "63        제주서귀포 리치고 중개사6  2023-09-18\n",
       "64         제주서귀포 직방 중개사3  2024-03-22\n",
       "65  제주서귀포 피터팬의좋은방구하기 김건영  2023-03-12\n",
       "\n",
       "[66 rows x 2 columns]"
      ]
     },
     "execution_count": 168,
     "metadata": {},
     "output_type": "execute_result"
    }
   ],
   "source": [
    "nan_agent_list = df.loc[df['신규연장'].isna(), '지역 상호 대표자'].unique().tolist()\n",
    "nan_agent_first_purchase_date = df.loc[df['지역 상호 대표자'].isin(nan_agent_list)].groupby(['지역 상호 대표자'])['날짜'].min().reset_index().rename(columns={'날짜':'최초구매날짜'})\n",
    "nan_agent_first_purchase_date"
   ]
  },
  {
   "cell_type": "code",
   "execution_count": 174,
   "metadata": {},
   "outputs": [
    {
     "data": {
      "text/html": [
       "<div>\n",
       "<style scoped>\n",
       "    .dataframe tbody tr th:only-of-type {\n",
       "        vertical-align: middle;\n",
       "    }\n",
       "\n",
       "    .dataframe tbody tr th {\n",
       "        vertical-align: top;\n",
       "    }\n",
       "\n",
       "    .dataframe thead th {\n",
       "        text-align: right;\n",
       "    }\n",
       "</style>\n",
       "<table border=\"1\" class=\"dataframe\">\n",
       "  <thead>\n",
       "    <tr style=\"text-align: right;\">\n",
       "      <th></th>\n",
       "      <th>지역</th>\n",
       "      <th>상호</th>\n",
       "      <th>대표자</th>\n",
       "      <th>매출액</th>\n",
       "      <th>날짜</th>\n",
       "      <th>신규연장</th>\n",
       "      <th>지역 상호 대표자</th>\n",
       "      <th>register_number</th>\n",
       "      <th>최초구매날짜</th>\n",
       "    </tr>\n",
       "  </thead>\n",
       "  <tbody>\n",
       "    <tr>\n",
       "      <th>52</th>\n",
       "      <td>서울강남구</td>\n",
       "      <td>직방</td>\n",
       "      <td>김건영</td>\n",
       "      <td>615397</td>\n",
       "      <td>2024-03-27</td>\n",
       "      <td>None</td>\n",
       "      <td>서울강남구 직방 김건영</td>\n",
       "      <td>RN000010</td>\n",
       "      <td>2023-03-28</td>\n",
       "    </tr>\n",
       "    <tr>\n",
       "      <th>53</th>\n",
       "      <td>서울강남구</td>\n",
       "      <td>직방</td>\n",
       "      <td>김건영</td>\n",
       "      <td>615397</td>\n",
       "      <td>2024-03-27</td>\n",
       "      <td>None</td>\n",
       "      <td>서울강남구 직방 김건영</td>\n",
       "      <td>RN000016</td>\n",
       "      <td>2023-03-28</td>\n",
       "    </tr>\n",
       "    <tr>\n",
       "      <th>54</th>\n",
       "      <td>서울강남구</td>\n",
       "      <td>직방</td>\n",
       "      <td>김건영</td>\n",
       "      <td>615397</td>\n",
       "      <td>2024-03-27</td>\n",
       "      <td>None</td>\n",
       "      <td>서울강남구 직방 김건영</td>\n",
       "      <td>RN000034</td>\n",
       "      <td>2023-03-28</td>\n",
       "    </tr>\n",
       "    <tr>\n",
       "      <th>55</th>\n",
       "      <td>서울강남구</td>\n",
       "      <td>직방</td>\n",
       "      <td>김건영</td>\n",
       "      <td>615397</td>\n",
       "      <td>2024-03-27</td>\n",
       "      <td>None</td>\n",
       "      <td>서울강남구 직방 김건영</td>\n",
       "      <td>RN000086</td>\n",
       "      <td>2023-03-28</td>\n",
       "    </tr>\n",
       "    <tr>\n",
       "      <th>56</th>\n",
       "      <td>서울강남구</td>\n",
       "      <td>직방</td>\n",
       "      <td>김건영</td>\n",
       "      <td>615397</td>\n",
       "      <td>2024-03-27</td>\n",
       "      <td>None</td>\n",
       "      <td>서울강남구 직방 김건영</td>\n",
       "      <td>RN000153</td>\n",
       "      <td>2023-03-28</td>\n",
       "    </tr>\n",
       "    <tr>\n",
       "      <th>...</th>\n",
       "      <td>...</td>\n",
       "      <td>...</td>\n",
       "      <td>...</td>\n",
       "      <td>...</td>\n",
       "      <td>...</td>\n",
       "      <td>...</td>\n",
       "      <td>...</td>\n",
       "      <td>...</td>\n",
       "      <td>...</td>\n",
       "    </tr>\n",
       "    <tr>\n",
       "      <th>3664</th>\n",
       "      <td>서울중구</td>\n",
       "      <td>직방</td>\n",
       "      <td>중개사6</td>\n",
       "      <td>71813</td>\n",
       "      <td>2024-06-08</td>\n",
       "      <td>None</td>\n",
       "      <td>서울중구 직방 중개사6</td>\n",
       "      <td>RN000928</td>\n",
       "      <td>2023-07-01</td>\n",
       "    </tr>\n",
       "    <tr>\n",
       "      <th>3665</th>\n",
       "      <td>서울중구</td>\n",
       "      <td>직방</td>\n",
       "      <td>중개사6</td>\n",
       "      <td>71813</td>\n",
       "      <td>2024-06-08</td>\n",
       "      <td>None</td>\n",
       "      <td>서울중구 직방 중개사6</td>\n",
       "      <td>RN000976</td>\n",
       "      <td>2023-07-01</td>\n",
       "    </tr>\n",
       "    <tr>\n",
       "      <th>3700</th>\n",
       "      <td>서울중구</td>\n",
       "      <td>다방</td>\n",
       "      <td>중개사6</td>\n",
       "      <td>0</td>\n",
       "      <td>2023-08-09</td>\n",
       "      <td>None</td>\n",
       "      <td>서울중구 다방 중개사6</td>\n",
       "      <td>RN000987</td>\n",
       "      <td>2023-08-09</td>\n",
       "    </tr>\n",
       "    <tr>\n",
       "      <th>3714</th>\n",
       "      <td>부산동구</td>\n",
       "      <td>리치고</td>\n",
       "      <td>김건영</td>\n",
       "      <td>549410</td>\n",
       "      <td>2023-08-25</td>\n",
       "      <td>None</td>\n",
       "      <td>부산동구 리치고 김건영</td>\n",
       "      <td>RN000880</td>\n",
       "      <td>2023-03-29</td>\n",
       "    </tr>\n",
       "    <tr>\n",
       "      <th>3715</th>\n",
       "      <td>부산동구</td>\n",
       "      <td>리치고</td>\n",
       "      <td>김건영</td>\n",
       "      <td>549410</td>\n",
       "      <td>2023-08-25</td>\n",
       "      <td>None</td>\n",
       "      <td>부산동구 리치고 김건영</td>\n",
       "      <td>RN000990</td>\n",
       "      <td>2023-03-29</td>\n",
       "    </tr>\n",
       "  </tbody>\n",
       "</table>\n",
       "<p>273 rows × 9 columns</p>\n",
       "</div>"
      ],
      "text/plain": [
       "         지역   상호   대표자     매출액          날짜  신규연장     지역 상호 대표자  \\\n",
       "52    서울강남구   직방   김건영  615397  2024-03-27  None  서울강남구 직방 김건영   \n",
       "53    서울강남구   직방   김건영  615397  2024-03-27  None  서울강남구 직방 김건영   \n",
       "54    서울강남구   직방   김건영  615397  2024-03-27  None  서울강남구 직방 김건영   \n",
       "55    서울강남구   직방   김건영  615397  2024-03-27  None  서울강남구 직방 김건영   \n",
       "56    서울강남구   직방   김건영  615397  2024-03-27  None  서울강남구 직방 김건영   \n",
       "...     ...  ...   ...     ...         ...   ...           ...   \n",
       "3664   서울중구   직방  중개사6   71813  2024-06-08  None  서울중구 직방 중개사6   \n",
       "3665   서울중구   직방  중개사6   71813  2024-06-08  None  서울중구 직방 중개사6   \n",
       "3700   서울중구   다방  중개사6       0  2023-08-09  None  서울중구 다방 중개사6   \n",
       "3714   부산동구  리치고   김건영  549410  2023-08-25  None  부산동구 리치고 김건영   \n",
       "3715   부산동구  리치고   김건영  549410  2023-08-25  None  부산동구 리치고 김건영   \n",
       "\n",
       "     register_number      최초구매날짜  \n",
       "52          RN000010  2023-03-28  \n",
       "53          RN000016  2023-03-28  \n",
       "54          RN000034  2023-03-28  \n",
       "55          RN000086  2023-03-28  \n",
       "56          RN000153  2023-03-28  \n",
       "...              ...         ...  \n",
       "3664        RN000928  2023-07-01  \n",
       "3665        RN000976  2023-07-01  \n",
       "3700        RN000987  2023-08-09  \n",
       "3714        RN000880  2023-03-29  \n",
       "3715        RN000990  2023-03-29  \n",
       "\n",
       "[273 rows x 9 columns]"
      ]
     },
     "execution_count": 174,
     "metadata": {},
     "output_type": "execute_result"
    }
   ],
   "source": [
    "df_merge_first_purchase = df.merge(nan_agent_first_purchase_date, how='left', on='지역 상호 대표자')\n",
    "df_merge_first_purchase.loc[(~df_merge_first_purchase['최초구매날짜'].isna()) & df_merge_first_purchase['신규연장'].isna()]"
   ]
  },
  {
   "cell_type": "code",
   "execution_count": 178,
   "metadata": {},
   "outputs": [
    {
     "name": "stdout",
     "output_type": "stream",
     "text": [
      "<class 'pandas.core.frame.DataFrame'>\n",
      "Int64Index: 3750 entries, 0 to 3749\n",
      "Data columns (total 8 columns):\n",
      " #   Column           Non-Null Count  Dtype \n",
      "---  ------           --------------  ----- \n",
      " 0   지역               3750 non-null   object\n",
      " 1   상호               3750 non-null   object\n",
      " 2   대표자              3750 non-null   object\n",
      " 3   매출액              3750 non-null   int64 \n",
      " 4   날짜               3750 non-null   object\n",
      " 5   신규연장             3477 non-null   object\n",
      " 6   지역 상호 대표자        3750 non-null   object\n",
      " 7   register_number  3750 non-null   object\n",
      "dtypes: int64(1), object(7)\n",
      "memory usage: 263.7+ KB\n"
     ]
    }
   ],
   "source": [
    "df.info()"
   ]
  },
  {
   "cell_type": "code",
   "execution_count": null,
   "metadata": {},
   "outputs": [],
   "source": [
    "# 조건에 맞게 '신규연장' 컬럼 생성\n",
    "df_merge_first_purchase['신규연장'] = df_merge_first_purchase.apply(\n",
    "    lambda row: '신규' if pd.to_datetime(row['날짜']) == pd.to_datetime(row['최초구매날짜']) \n",
    "    else ('연장' if pd.to_datetime(row['날짜']) > pd.to_datetime(row['최초구매날짜']) else row['신규연장']),\n",
    "    axis=1\n",
    ")"
   ]
  },
  {
   "cell_type": "code",
   "execution_count": 180,
   "metadata": {},
   "outputs": [
    {
     "name": "stdout",
     "output_type": "stream",
     "text": [
      "<class 'pandas.core.frame.DataFrame'>\n",
      "Int64Index: 3750 entries, 0 to 3749\n",
      "Data columns (total 9 columns):\n",
      " #   Column           Non-Null Count  Dtype \n",
      "---  ------           --------------  ----- \n",
      " 0   지역               3750 non-null   object\n",
      " 1   상호               3750 non-null   object\n",
      " 2   대표자              3750 non-null   object\n",
      " 3   매출액              3750 non-null   int64 \n",
      " 4   날짜               3750 non-null   object\n",
      " 5   신규연장             3750 non-null   object\n",
      " 6   지역 상호 대표자        3750 non-null   object\n",
      " 7   register_number  3750 non-null   object\n",
      " 8   최초구매날짜           1278 non-null   object\n",
      "dtypes: int64(1), object(8)\n",
      "memory usage: 293.0+ KB\n"
     ]
    }
   ],
   "source": [
    "df_merge_first_purchase.info()"
   ]
  },
  {
   "cell_type": "code",
   "execution_count": 181,
   "metadata": {},
   "outputs": [],
   "source": [
    "df = df_merge_first_purchase.drop('최초구매날짜', axis=1)"
   ]
  },
  {
   "cell_type": "markdown",
   "metadata": {},
   "source": [
    "### 2. 매출 분석"
   ]
  },
  {
   "cell_type": "markdown",
   "metadata": {},
   "source": [
    "##### 2-1. 신규가입 중개사 vs 재계약(연장) 중개사 비교"
   ]
  },
  {
   "cell_type": "code",
   "execution_count": 184,
   "metadata": {},
   "outputs": [
    {
     "name": "stdout",
     "output_type": "stream",
     "text": [
      "  신규연장  count\n",
      "0   신규   1223\n",
      "1   연장   1820\n",
      "2   환불    707\n",
      "  신규연장        매출액\n",
      "0   신규  401340938\n",
      "1   연장  485335576\n",
      "2   환불  -37748630\n"
     ]
    }
   ],
   "source": [
    "# 신규 가입 중개사 수와 재개약(연장) 중개사 수 비교 \n",
    "print(df.groupby('신규연장', dropna=False).size().reset_index(name='count'))\n",
    "\n",
    "# 신규 가입 중개사의 매출과 연장 중개사의 매출 비교\n",
    "print(df.groupby('신규연장', dropna=False)['매출액'].sum().reset_index())"
   ]
  },
  {
   "cell_type": "markdown",
   "metadata": {},
   "source": [
    "연장 중개사 수, 매출 비율이 더 높은 점을 확인했다.<br>\n",
    "평균적으로 중개사가 몇 개월 단위로, 몇 회 연장을 하는지도 확인을 해야한다.<br>\n",
    "<br>\n",
    "ex) 1개월 당 꾸준히 100명의 신규 중개사 유입\n",
    "- 평균 연장 횟수: 3회\n",
    "- 1회 연장 당 평균적으로 걸리는 기간: 3개월<br>\n",
    "\n",
    "위 조건에서 작년 이번 달 처음 100명의 신규 중개사가 유입되었다고 가정하면 다음과 같은 결과가 나온다.\n",
    "\n",
    "- 1개월 뒤 : 신규 중개사 100명, 연장 중개사 0명\n",
    "- 2개월 뒤 : 신규 중개사 100명, 연장 중개사 0명\n",
    "- 3개월 뒤 : 신규 중개사 100명, 연장 중개사 100명\n",
    "- 4개월 뒤 : 신규 중개사 100명, 연장 중개사 100명\n",
    "- 5개월 뒤 : 신규 중개사 100명, 연장 중개사 100명\n",
    "- 6개월 뒤 : 신규 중개사 100명, 연장 중개사 200명\n",
    "- 7개월 뒤 : 신규 중개사 100명, 연장 중개사 200명\n",
    "- 8개월 뒤 : 신규 중개사 100명, 연장 중개사 200명\n",
    "- 9개월 뒤 : 신규 중개사 100명, 연장 중개사 300명\n",
    "- 10개월 뒤 : 신규 중개사 100명, 연장 중개사 300명\n",
    "- 11개월 뒤 : 신규 중개사 100명, 연장 중개사 300명\n",
    "- 12개월 뒤 : 신규 중개사 100명, 연장 중개사 300명"
   ]
  },
  {
   "cell_type": "markdown",
   "metadata": {},
   "source": [
    "##### 2-2. 평균 연장 횟수 구하기\n",
    "단순히 최근 2년치 데이터를 전부 가지고 평균을 계산하면, 1개월 전에 신규로 등록한 중개사의 경우 당연히 연장 횟수가 최대 1일 수밖에 없다.<br>\n",
    "따라서, 12개월치의 데이터만 추출하여 평균 연장 횟수를 계산했다.<br>\n",
    "ex) 11개월 전 ~ 현재까지 신규로 등록한 중개사 데이터 제외, 그 이전에 신규로 등록한 중개사는 최대 12개월치 데이터만 가지고 계산"
   ]
  },
  {
   "cell_type": "code",
   "execution_count": 185,
   "metadata": {},
   "outputs": [
    {
     "name": "stdout",
     "output_type": "stream",
     "text": [
      "13.217391304347826\n"
     ]
    }
   ],
   "source": [
    "from datetime import date\n",
    "from dateutil.relativedelta import relativedelta\n",
    "\n",
    "## 평균 연장 횟수\n",
    "\n",
    "# 중개사별 첫 구매 날짜\n",
    "first_purchase_date = df.loc[df['신규연장'] == '신규', ['날짜', 'register_number']].rename(columns={'날짜': '신규가입날짜'})\n",
    "\n",
    "# 월 단위로 변경\n",
    "first_purchase_date['신규가입날짜'] =  pd.to_datetime(first_purchase_date['신규가입날짜']).dt.strftime('%Y-%m')\n",
    "\n",
    "# 기존 데이터에 첫 구매 날짜 join\n",
    "df = df.merge(first_purchase_date, on='register_number', how='left')\n",
    "\n",
    "# 연장 날짜 - 첫 구매 날짜 계산\n",
    "df['연장경과개월'] = (\n",
    "    (pd.to_datetime(df['날짜']).dt.year - pd.to_datetime(df['신규가입날짜'], format='%Y-%m').dt.year) * 12 +\n",
    "    (pd.to_datetime(df['날짜']).dt.month - pd.to_datetime(df['신규가입날짜'], format='%Y-%m').dt.month)\n",
    ")\n",
    "\n",
    "# 첫 구매일로부터 1개월 단위로 연장한 횟수\n",
    "df_cohort = df.groupby(['신규가입날짜', '연장경과개월'])['register_number'].nunique().reset_index()\n",
    "\n",
    "# 11개월 경과까지의 데이터만 선택. 12개월치 데이터가 없는 중개사는 선택 X\n",
    "year_month_of_12_ago = (date.today() - relativedelta(months=12)).strftime('%Y-%m')\n",
    "condition1 = (df_cohort['연장경과개월'] < 12)\n",
    "condition2 = (df_cohort['신규가입날짜'] <= year_month_of_12_ago)\n",
    "condition3 = (df_cohort['연장경과개월'] != 0)\n",
    "df_cohort = df_cohort.loc[condition1 & condition2 & condition3]\n",
    "\n",
    "# 평균 연장 횟수\n",
    "년월기준신규중개사수 = df_cohort.loc[df_cohort['연장경과개월'] == 1].groupby('신규가입날짜')['register_number'].sum().reset_index()['register_number'].sum()\n",
    "년월기준연장중개사수 = df_cohort.loc[df_cohort['연장경과개월'] != 1].groupby('신규가입날짜')['register_number'].sum().reset_index()['register_number'].sum()\n",
    "print(년월기준연장중개사수/년월기준신규중개사수)"
   ]
  },
  {
   "cell_type": "markdown",
   "metadata": {},
   "source": [
    "#### 1회 연장 당 평균적으로 걸리는 기간 구하기"
   ]
  },
  {
   "cell_type": "code",
   "execution_count": null,
   "metadata": {},
   "outputs": [],
   "source": []
  },
  {
   "cell_type": "markdown",
   "metadata": {},
   "source": [
    "#### 신규 가입 후, 3개월 안에 이탈하는 이탈률 구하기"
   ]
  },
  {
   "cell_type": "code",
   "execution_count": null,
   "metadata": {},
   "outputs": [],
   "source": []
  },
  {
   "cell_type": "markdown",
   "metadata": {},
   "source": [
    "#### 1차 후행 지표 선정\n",
    "\n",
    "1회 연장 당 평균적으로 걸리는 기간은 업계 특성상 쉽게 바뀔 수 없다.<br>\n",
    "억지로 기간을 줄이려고 하면 역효과가 나타날 수 있다.<br>\n",
    "또한, 평균 연장 횟수가 같이 늘어나지 않는 이상 연장 기간이 줄어드는건 수치상 큰 의미는 없다.<br>\n",
    "따라서, 매출을 늘리기 위해 개선이 필요한 지표는 다음과 같다.\n",
    "\n",
    "**개선이 필요한 지표**\n",
    "- 신규 중개사 수\n",
    "- 평균 연장 횟수\n",
    "- ARPPU\n",
    "\n",
    "이를 식으로 대략적으로 나타내면 다음과 같다.\n",
    "\n",
    "$ 매출 = (신규 중개사 수 + (신규 중개사 수 \\times 평균 연장 횟수)) * ARPPU $\n",
    "\n",
    "신규 중개사 수는 단위가 크지만, 평균 연장 횟수는 단위가 작으므로 1회만 늘려도 큰 효과를 볼 수 있다.<br>\n",
    "ex) 1개월당 꾸준히 유입되는 신규 중개사가 50명이 넘는 상황에서는 신규 중개사 10명 늘리는 것보다 평균 연장 횟수 1회 늘리는 게 더 큰 효과를 본다.<br>\n",
    "\n",
    "ARPPU는 영업팀, 경영전략팀에서 전담해서 맡고 있기 때문에 ARPPU에 악영향을 주지 않는 방향으로 나머지 2지표에 집중하기로 했다.\n",
    "\n",
    "- 평균 연장 횟수는 서비스 팀, 마케팅 팀에서 서포트 가능.\n",
    "- 신규 중개사 수는 마케팅 팀에서 서포트 가능.\n",
    "\n",
    "평균 연장 횟수에 기여하는 지표가 무엇인지 조사해보았다."
   ]
  },
  {
   "cell_type": "code",
   "execution_count": null,
   "metadata": {},
   "outputs": [],
   "source": []
  },
  {
   "cell_type": "markdown",
   "metadata": {},
   "source": [
    "지금까지는 평균 연장 횟수를 전체 중개사 대상으로 조사했지만, 개별 조사도 필요하다.<br>\n",
    "평균 연장 횟수의 분산을 통해 상위 20% 그룹, 중간 그룹, 하위 20% 그룹으로 나누었다.\n",
    "\n",
    "각 그룹 대상으로 다시 지표를 살펴보았다."
   ]
  },
  {
   "cell_type": "markdown",
   "metadata": {},
   "source": []
  },
  {
   "cell_type": "code",
   "execution_count": null,
   "metadata": {},
   "outputs": [],
   "source": []
  },
  {
   "cell_type": "markdown",
   "metadata": {},
   "source": [
    "#### 유입 채널에 따른 유입수, 전환율 차이"
   ]
  },
  {
   "cell_type": "code",
   "execution_count": null,
   "metadata": {},
   "outputs": [],
   "source": []
  }
 ],
 "metadata": {
  "kernelspec": {
   "display_name": "base",
   "language": "python",
   "name": "python3"
  },
  "language_info": {
   "codemirror_mode": {
    "name": "ipython",
    "version": 3
   },
   "file_extension": ".py",
   "mimetype": "text/x-python",
   "name": "python",
   "nbconvert_exporter": "python",
   "pygments_lexer": "ipython3",
   "version": "3.8.8"
  }
 },
 "nbformat": 4,
 "nbformat_minor": 2
}
